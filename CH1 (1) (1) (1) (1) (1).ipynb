{
 "cells": [
  {
   "cell_type": "code",
   "execution_count": null,
   "id": "7016bf3b",
   "metadata": {},
   "outputs": [],
   "source": [
    "import findspark\n",
    "findspark.init()\n",
    "findspark.find()\n",
    "import os\n",
    "os.environ['HADOOP_CONF_DIR'] = '/etc/hadoop/conf'\n",
    "os.environ['YARN_CONF_DIR'] = '/etc/hadoop/conf'"
   ]
  },
  {
   "cell_type": "code",
   "execution_count": null,
   "id": "ffcf9524",
   "metadata": {},
   "outputs": [],
   "source": [
    "from datetime import date, timedelta, datetime\n",
    "import pyspark.sql.functions as F\n",
    "from pyspark.sql.window import Window \n",
    "from pyspark.sql import DataFrame\n",
    "from pyspark.sql.types import TimestampType"
   ]
  },
  {
   "cell_type": "code",
   "execution_count": null,
   "id": "b16f68ec",
   "metadata": {},
   "outputs": [],
   "source": [
    "from pyspark.sql import SparkSession\n",
    "spark = SparkSession \\\n",
    ".builder \\\n",
    ".master(\"yarn\")\\\n",
    ".config(\"spark.driver.memory\", \"4g\") \\\n",
    ".config(\"spark.executor.memory\", \"4g\") \\\n",
    ".config(\"spark.dynamicAllocation.executorIdleTimeout\", \"10000s\") \\\n",
    ".appName(\"Projecte\") \\\n",
    ".getOrCreate()                               "
   ]
  },
  {
   "cell_type": "code",
   "execution_count": null,
   "id": "2b9a5bb0",
   "metadata": {},
   "outputs": [],
   "source": [
    "spark"
   ]
  },
  {
   "cell_type": "markdown",
   "id": "9b60e7f6",
   "metadata": {},
   "source": [
    "# Функции"
   ]
  },
  {
   "cell_type": "code",
   "execution_count": null,
   "id": "444d1f82",
   "metadata": {},
   "outputs": [],
   "source": [
    "# Выбирает все даты, попадающие в заданный диапазон.\n",
    "# Даты передаются в формате \"2022-01-01\"\n",
    "def select_dates(start_date: str, end_date: str) -> list:\n",
    "    try:\n",
    "        start_date = datetime.fromisoformat(start_date)\n",
    "        end_date = datetime.fromisoformat(end_date)\n",
    "    except:\n",
    "        print('Неверный формат даты!') # ПИСАТЬ В ЛОГ!!!!!\n",
    "    # Список дат в формате ['/user/master/data/events/date=2020-10-02', ...]\n",
    "    paths_list = []\n",
    "    # Количество дней между датами\n",
    "    delta = end_date - start_date\n",
    "    \n",
    "    if delta.days < 0:\n",
    "        print ('Указан слишком маленький диапазон!')  # ПИСАТЬ В ЛОГ!!!!!\n",
    "    for i in range(delta.days + 1):\n",
    "        paths_list.append('/user/master/data/geo/events/date=' + (start_date + timedelta(i)).__str__()[:10])\n",
    "    return paths_list\n",
    "\n",
    "calculate_dist = F.lit(2*6371) * F.asin(\n",
    "        F.sqrt(\n",
    "            F.pow(F.sin((F.radians(F.col(\"lat\")) - F.radians(F.col(\"ltt\"))) / 2), 2) +\n",
    "            F.cos(F.radians(F.col(\"lat\"))) * F.radians(F.cos(F.col(\"ltt\"))) *\n",
    "            F.pow(F.sin((F.radians(F.col(\"lon\")) - F.radians(F.col(\"lng\"))) / 2), 2)\n",
    "        )\n",
    "    )\n"
   ]
  },
  {
   "cell_type": "code",
   "execution_count": null,
   "id": "98547130",
   "metadata": {},
   "outputs": [],
   "source": [
    "select_dates('2022-01-01', '2022-01-03')"
   ]
  },
  {
   "cell_type": "markdown",
   "id": "1dc09d28",
   "metadata": {},
   "source": [
    "## Загрузка данных"
   ]
  },
  {
   "cell_type": "markdown",
   "id": "b7fdc114",
   "metadata": {},
   "source": [
    "### Действия"
   ]
  },
  {
   "cell_type": "code",
   "execution_count": null,
   "id": "dff9a4ce",
   "metadata": {},
   "outputs": [],
   "source": [
    "#  Добавить проверку на количество записей в лог\n",
    "try:\n",
    "    activities = spark.read.parquet(*select_dates('2022-01-01', '2022-01-10')).sample(0.05)\n",
    "except:\n",
    "    print('Нет данных за указанный диапазон!')"
   ]
  },
  {
   "cell_type": "code",
   "execution_count": null,
   "id": "d624ef31",
   "metadata": {},
   "outputs": [],
   "source": [
    "activities.show(3, truncate=False)"
   ]
  },
  {
   "cell_type": "code",
   "execution_count": null,
   "id": "f3c9385c",
   "metadata": {},
   "outputs": [],
   "source": [
    "activities.schema"
   ]
  },
  {
   "cell_type": "markdown",
   "id": "77e5aa16",
   "metadata": {},
   "source": [
    "### Города"
   ]
  },
  {
   "cell_type": "code",
   "execution_count": null,
   "id": "15f245d4",
   "metadata": {},
   "outputs": [],
   "source": [
    "cities = spark.read.csv('/user/flaviusoct/data/coord', sep=';', header=True).withColumnRenamed('lat', 'ltt')"
   ]
  },
  {
   "cell_type": "code",
   "execution_count": null,
   "id": "003f0c19",
   "metadata": {},
   "outputs": [],
   "source": [
    "cities.show(30,truncate=False)"
   ]
  },
  {
   "cell_type": "markdown",
   "id": "478f75fe",
   "metadata": {},
   "source": [
    "## Обработка данных"
   ]
  },
  {
   "cell_type": "code",
   "execution_count": null,
   "id": "ff452ce0",
   "metadata": {},
   "outputs": [],
   "source": [
    "# Удаляем строки с пропущенными значениями координат\n",
    "\n",
    "activities_new = activities.where(\"lat IS NOT NULL AND lon IS NOT NULL\")"
   ]
  },
  {
   "cell_type": "code",
   "execution_count": null,
   "id": "1032735c",
   "metadata": {},
   "outputs": [],
   "source": [
    "# Делаем одну колонку со временем\n",
    "# и добавляем колонку с уникальным id\n",
    "activities_new = activities_new \\\n",
    ".withColumn('datetime', F.coalesce(F.col('event.datetime'), F.col('event.message_ts')).cast('timestamp')) \\\n",
    ".orderBy(F.asc('datetime')) \\\n",
    ".withColumn('activity_id', F.monotonically_increasing_id())\n",
    "# В этом точно есть, ибо группировать ниже надо по какому-то общему идентификатору\n",
    "# в сообщениях и иных действиях. По умолчанию его нет.\n"
   ]
  },
  {
   "cell_type": "code",
   "execution_count": null,
   "id": "acecbc50",
   "metadata": {},
   "outputs": [],
   "source": [
    "activities_new.show(3, truncate=False)"
   ]
  },
  {
   "cell_type": "code",
   "execution_count": null,
   "id": "7af49aea",
   "metadata": {},
   "outputs": [],
   "source": [
    "cities_new = cities \\\n",
    ".withColumn(\"ltt\", F.regexp_replace(F.col(\"ltt\"), pattern=',', replacement='.').cast(\"double\")) \\\n",
    ".withColumn(\"lng\", F.regexp_replace(F.col(\"lng\"), pattern=',', replacement='.').cast(\"double\")) \\\n",
    ".withColumn('id', F.col(\"id\").cast(\"integer\"))"
   ]
  },
  {
   "cell_type": "markdown",
   "id": "e630752f",
   "metadata": {},
   "source": [
    "## Операции"
   ]
  },
  {
   "cell_type": "code",
   "execution_count": null,
   "id": "f48e076e",
   "metadata": {},
   "outputs": [],
   "source": [
    "activities_new = activities_new.crossJoin(cities_new) \\\n",
    "        .withColumn('distance', calculate_dist) \\\n",
    "        .withColumn(\"distance_rank\",\n",
    "                    F.row_number().over(Window.partitionBy(\"activity_id\").orderBy(\"distance\"))) \\\n",
    "        .where(\"distance_rank == 1\")"
   ]
  },
  {
   "cell_type": "code",
   "execution_count": null,
   "id": "c0acb0c4",
   "metadata": {},
   "outputs": [],
   "source": [
    "activities_new.show()"
   ]
  },
  {
   "cell_type": "code",
   "execution_count": null,
   "id": "5bd372e0",
   "metadata": {},
   "outputs": [
    {
     "name": "stderr",
     "output_type": "stream",
     "text": [
      "[Stage 18:================>                                       (28 + 4) / 93]\r"
     ]
    }
   ],
   "source": [
    "activities_new.write.mode('overwrite').parquet('/user/flaviusoct/data/tmp/activities_new')\n",
    "#activities_new = spark.read.parquet('/user/flaviusoct/data/tmp/activities_new')"
   ]
  },
  {
   "cell_type": "code",
   "execution_count": null,
   "id": "ff950da2",
   "metadata": {},
   "outputs": [],
   "source": []
  },
  {
   "cell_type": "markdown",
   "id": "6fa28a28",
   "metadata": {},
   "source": [
    "## Создаём витрину 1"
   ]
  },
  {
   "cell_type": "code",
   "execution_count": null,
   "id": "4584b829",
   "metadata": {},
   "outputs": [],
   "source": [
    "def create_user_view(df: DataFrame) -> DataFrame:\n",
    "    messages = df.where(\"event_type='message' AND datetime IS NOT NULL\") \\\n",
    "    .select(F.col('event.message_from').alias('user_id'),\n",
    "            F.col('city'), F.col('datetime')\n",
    "           ).distinct()\n",
    "    \n",
    "    act_city = messages \\\n",
    "    .withColumn(\n",
    "        'user_messages_rank', F.row_number().over(Window().partitionBy(['user_id']).orderBy(F.desc('datetime')))\n",
    "    ).where('user_messages_rank == 1') \\\n",
    "    .select(F.col('user_id'), F.col('city').alias('act_city'))\n",
    "    \n",
    "    home_city = messages. \\\n",
    "    withColumn(\"date_group_rank\",\n",
    "               F.row_number().over(Window.partitionBy(\"user_id\", \"city\").orderBy(\"datetime\"))) \\\n",
    "    .selectExpr('*', 'date_sub(datetime, date_group_rank) as date_group') \\\n",
    "    .groupBy(\"user_id\", \"city\", \"date_group\") \\\n",
    "    .agg(F.count(\"*\").alias(\"cnt_days\")) \\\n",
    "    .select(\"user_id\", \"city\", \"cnt_days\") \\\n",
    "    .where(\"cnt_days > 1\") \\\n",
    "    .withColumn('max_cnt', F.max('cnt_days').over(Window.partitionBy(\"user_id\", \"city\"))) \\\n",
    "    .where(F.col('cnt_days') == F.col('max_cnt')) \\\n",
    "    .drop('max_cnt', 'cnt_days') \\\n",
    "    .withColumn(\"home_city\", F.first(\"city\").over(Window.partitionBy(\"user_id\"))) \\\n",
    "    .drop(\"city\") \\\n",
    "\n",
    "    travel_count = messages \\\n",
    "    .groupBy(\"user_id\") \\\n",
    "    .agg(F.count(\"*\").alias(\"travel_count\"))\n",
    "    \n",
    "    travel_array = messages \\\n",
    "    .orderBy(\"datetime\") \\\n",
    "    .groupBy(\"user_id\") \\\n",
    "    .agg(F.collect_list(\"city\").alias(\"travel_array\")) \\\n",
    "    .drop(\"city\", \"datetime\")\n",
    "    \n",
    "    local_time = messages \\\n",
    "    .withColumn('message_rank_by_user',\n",
    "                F.row_number().over(Window.partitionBy(\"user_id\").orderBy(F.desc('datetime')))\n",
    "               ).where('message_rank_by_user == 1') \\\n",
    "    .select(F.col('user_id'), F.col('datetime')).orderBy(F.col('user_id')) \\\n",
    "    .withColumn('local_time', F.from_utc_timestamp(F.col(\"datetime\"), (F.lit(\"Australia/Sydney\")))) \\\n",
    "        .drop(\"datetime\")\n",
    "    \n",
    "    total_user_view = act_city \\\n",
    "    .join(home_city, [\"user_id\"], 'left') \\\n",
    "    .join(travel_count, [\"user_id\"]) \\\n",
    "    .join(travel_array, [\"user_id\"]) \\\n",
    "    .join(local_time, [\"user_id\"])\n",
    "    \n",
    "    return total_user_view"
   ]
  },
  {
   "cell_type": "code",
   "execution_count": null,
   "id": "73358793",
   "metadata": {},
   "outputs": [],
   "source": [
    "user_view = create_user_view(activities_new)"
   ]
  },
  {
   "cell_type": "code",
   "execution_count": null,
   "id": "81ad8615",
   "metadata": {},
   "outputs": [],
   "source": [
    "user_view.write.mode('overwrite').parquet('/user/flaviusoct/data/tmp/user_view')"
   ]
  },
  {
   "cell_type": "markdown",
   "id": "1039e167",
   "metadata": {},
   "source": [
    "## Создаём витрину 2"
   ]
  },
  {
   "cell_type": "code",
   "execution_count": null,
   "id": "83aff373",
   "metadata": {},
   "outputs": [],
   "source": [
    "activities_new.show(3)"
   ]
  },
  {
   "cell_type": "code",
   "execution_count": null,
   "id": "a0246294",
   "metadata": {},
   "outputs": [],
   "source": [
    "def create_activity_by_zone_view(df: DataFrame, act_type: str, reg: bool = False) -> DataFrame:\n",
    "    new_df = ''\n",
    "    if reg:\n",
    "        new_df = df.where(f'event_type == \"message\" and datetime IS NOT NULL') \\\n",
    "        .withColumn(\n",
    "            'msg_rank', F.row_number().over(\n",
    "                Window.partitionBy('event.message_from').orderBy(F.asc('datetime'))\n",
    "            )\n",
    "        ).where('msg_rank == 1')\n",
    "    else:\n",
    "        new_df = df.where(f'event_type == \"{act_type}\" and datetime IS NOT NULL')\n",
    "\n",
    "    new_df = new_df.withColumn('month', F.month(F.col('datetime'))) \\\n",
    "    .withColumn('week', F.weekofyear(F.col('datetime'))) \\\n",
    "    .select(F.col('month'), F.col('week'), F.col('id').alias('zone_id')) \\\n",
    "    .withColumn(f'month_{act_type}', F.count('*').over(Window.partitionBy('month', 'zone_id'))) \\\n",
    "    .withColumn(f'week_{act_type}', F.count('*').over(Window.partitionBy('week', 'zone_id'))) \\\n",
    "    .groupBy('month', 'week', 'zone_id') \\\n",
    "    .agg(F.first(f\"week_{act_type}\").alias(f\"week_{act_type}\"),\n",
    "         F.first(f\"month_{act_type}\").alias(f\"month_{act_type}\"))          \n",
    "    \n",
    "    return new_df\n",
    "\n",
    "def create_activities_by_zone_view(df: DataFrame) -> DataFrame:\n",
    "    messages = create_activity_by_zone_view(df, 'message')\n",
    "    subscriptions = create_activity_by_zone_view(df, 'subscription')\n",
    "    reactions = create_activity_by_zone_view(df, 'reaction')\n",
    "    registrations = create_activity_by_zone_view(df, 'registration', True)\n",
    "    \n",
    "    return messages \\\n",
    ".join(subscriptions, [\"week\", \"month\", \"zone_id\"], 'full') \\\n",
    ".join(reactions, [\"week\", \"month\", \"zone_id\"], 'full') \\\n",
    ".join(registrations, [\"week\", \"month\", \"zone_id\"], 'full') \\\n",
    ".orderBy(\"week\", \"month\", \"zone_id\")"
   ]
  },
  {
   "cell_type": "code",
   "execution_count": null,
   "id": "ab1c344e",
   "metadata": {},
   "outputs": [],
   "source": [
    "test = create_activities_by_zone_view(activities_new)"
   ]
  },
  {
   "cell_type": "code",
   "execution_count": null,
   "id": "09d7a667",
   "metadata": {},
   "outputs": [],
   "source": [
    "test.show(40)"
   ]
  },
  {
   "cell_type": "markdown",
   "id": "cf52e1ad",
   "metadata": {},
   "source": [
    "## Создаём витрину 3"
   ]
  },
  {
   "cell_type": "code",
   "execution_count": null,
   "id": "5b9ef872",
   "metadata": {},
   "outputs": [],
   "source": [
    "activities_new.where('event.subscription_channel IS NOT NULL').show(10, truncate=False)"
   ]
  },
  {
   "cell_type": "code",
   "execution_count": null,
   "id": "ada3e687",
   "metadata": {},
   "outputs": [],
   "source": [
    "def create_user_recommend_view(df: DataFrame, date: str) -> DataFrame:\n",
    "    uniq_user = df.where(\n",
    "        f'datetime <= \"{date}\" and datetime IS NOT NULL and event_type == \"subscription\"'\n",
    "    ).select(F.col('event.message_from').alias('user_id')).distinct()\n",
    "    \n",
    "    return uniq_user"
   ]
  },
  {
   "cell_type": "code",
   "execution_count": null,
   "id": "57ae0b70",
   "metadata": {},
   "outputs": [],
   "source": [
    "test = create_user_recommend_view(activities_new, '2022-01-03 16:00:00')"
   ]
  },
  {
   "cell_type": "code",
   "execution_count": null,
   "id": "70dff9f2",
   "metadata": {},
   "outputs": [],
   "source": [
    "test.show()"
   ]
  },
  {
   "cell_type": "code",
   "execution_count": null,
   "id": "bafc7a93",
   "metadata": {},
   "outputs": [],
   "source": [
    "activities_new.select('event').schema"
   ]
  },
  {
   "cell_type": "code",
   "execution_count": null,
   "id": "fe728f18",
   "metadata": {},
   "outputs": [],
   "source": []
  }
 ],
 "metadata": {
  "kernelspec": {
   "display_name": "Python 3 (ipykernel)",
   "language": "python",
   "name": "python3"
  },
  "language_info": {
   "codemirror_mode": {
    "name": "ipython",
    "version": 3
   },
   "file_extension": ".py",
   "mimetype": "text/x-python",
   "name": "python",
   "nbconvert_exporter": "python",
   "pygments_lexer": "ipython3",
   "version": "3.8.10"
  }
 },
 "nbformat": 4,
 "nbformat_minor": 5
}
