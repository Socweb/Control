{
 "cells": [
  {
   "cell_type": "code",
   "execution_count": 1,
   "id": "7016bf3b",
   "metadata": {},
   "outputs": [],
   "source": [
    "import findspark\n",
    "findspark.init()\n",
    "findspark.find()\n",
    "import os\n",
    "os.environ['HADOOP_CONF_DIR'] = '/etc/hadoop/conf'\n",
    "os.environ['YARN_CONF_DIR'] = '/etc/hadoop/conf'"
   ]
  },
  {
   "cell_type": "code",
   "execution_count": 106,
   "id": "ffcf9524",
   "metadata": {},
   "outputs": [],
   "source": [
    "from datetime import date, timedelta, datetime\n",
    "import pyspark.sql.functions as F\n",
    "from pyspark.sql.window import Window "
   ]
  },
  {
   "cell_type": "code",
   "execution_count": 3,
   "id": "b16f68ec",
   "metadata": {},
   "outputs": [
    {
     "name": "stderr",
     "output_type": "stream",
     "text": [
      "SLF4J: Class path contains multiple SLF4J bindings.\n",
      "SLF4J: Found binding in [jar:file:/usr/lib/spark/jars/slf4j-log4j12-1.7.30.jar!/org/slf4j/impl/StaticLoggerBinder.class]\n",
      "SLF4J: Found binding in [jar:file:/usr/lib/hadoop/lib/slf4j-log4j12-1.7.25.jar!/org/slf4j/impl/StaticLoggerBinder.class]\n",
      "SLF4J: See http://www.slf4j.org/codes.html#multiple_bindings for an explanation.\n",
      "SLF4J: Actual binding is of type [org.slf4j.impl.Log4jLoggerFactory]\n",
      "2023-01-24 19:26:26,709 WARN util.Utils: Your hostname, fhmd0k22gk1qqq6a221q resolves to a loopback address: 127.0.1.1; using 172.16.0.37 instead (on interface eth0)\n",
      "2023-01-24 19:26:26,710 WARN util.Utils: Set SPARK_LOCAL_IP if you need to bind to another address\n",
      "Setting default log level to \"WARN\".\n",
      "To adjust logging level use sc.setLogLevel(newLevel). For SparkR, use setLogLevel(newLevel).\n",
      "2023-01-24 19:26:28,940 WARN util.Utils: spark.executor.instances less than spark.dynamicAllocation.minExecutors is invalid, ignoring its setting, please update your configs.\n",
      "2023-01-24 19:26:38,939 WARN util.Utils: spark.executor.instances less than spark.dynamicAllocation.minExecutors is invalid, ignoring its setting, please update your configs.\n",
      "2023-01-24 19:26:38,951 WARN cluster.YarnSchedulerBackend$YarnSchedulerEndpoint: Attempted to request executors before the AM has registered!\n"
     ]
    }
   ],
   "source": [
    "from pyspark.sql import SparkSession\n",
    "spark = SparkSession \\\n",
    ".builder \\\n",
    ".master(\"yarn\")\\\n",
    ".config(\"spark.driver.cores\", 1) \\\n",
    ".config(\"spark.driver.memory\", \"2g\") \\\n",
    ".config(\"spark.executor.memory\", \"2g\") \\\n",
    ".appName(\"Project7\") \\\n",
    ".getOrCreate()                               "
   ]
  },
  {
   "cell_type": "markdown",
   "id": "9b60e7f6",
   "metadata": {},
   "source": [
    "# Функции"
   ]
  },
  {
   "cell_type": "code",
   "execution_count": 104,
   "id": "444d1f82",
   "metadata": {},
   "outputs": [],
   "source": [
    "# Выбирает все даты, попадающие в заданный диапазон.\n",
    "# Даты передаются в формате \"2022-01-01\"\n",
    "def select_dates(start_date: str, end_date: str) -> list:\n",
    "    try:\n",
    "        start_date = datetime.fromisoformat(start_date)\n",
    "        end_date = datetime.fromisoformat(end_date)\n",
    "    except:\n",
    "        print('Неверный формат даты!') # ПИСАТЬ В ЛОГ!!!!!\n",
    "    # Список дат в формате ['/user/master/data/events/date=2020-10-02', ...]\n",
    "    paths_list = []\n",
    "    # Количество дней между датами\n",
    "    delta = end_date - start_date\n",
    "    \n",
    "    if delta.days < 0:\n",
    "        print ('Указан слишком маленький диапазон!')  # ПИСАТЬ В ЛОГ!!!!!\n",
    "    for i in range(delta.days + 1):\n",
    "        paths_list.append('/user/master/data/geo/events/date=' + (start_date + timedelta(i)).__str__()[:10])\n",
    "    return paths_list\n",
    "\n",
    "calculate_dist = F.lit(2*6371) * F.asin(\n",
    "        F.sqrt(\n",
    "            F.pow(F.sin((F.radians(F.col(\"lat\")) - F.radians(F.col(\"ltt\"))) / 2), 2) +\n",
    "            F.cos(F.radians(F.col(\"lat\"))) * F.radians(F.cos(F.col(\"ltt\"))) *\n",
    "            F.pow(F.sin((F.radians(F.col(\"lon\")) - F.radians(F.col(\"lng\"))) / 2), 2)\n",
    "        )\n",
    "    )\n"
   ]
  },
  {
   "cell_type": "code",
   "execution_count": 5,
   "id": "98547130",
   "metadata": {},
   "outputs": [
    {
     "data": {
      "text/plain": [
       "['/user/master/data/geo/events/date=2022-01-01',\n",
       " '/user/master/data/geo/events/date=2022-01-02',\n",
       " '/user/master/data/geo/events/date=2022-01-03']"
      ]
     },
     "execution_count": 5,
     "metadata": {},
     "output_type": "execute_result"
    }
   ],
   "source": [
    "select_dates('2022-01-01', '2022-01-03')"
   ]
  },
  {
   "cell_type": "markdown",
   "id": "1dc09d28",
   "metadata": {},
   "source": [
    "## Загрузка данных"
   ]
  },
  {
   "cell_type": "markdown",
   "id": "b7fdc114",
   "metadata": {},
   "source": [
    "### Действия"
   ]
  },
  {
   "cell_type": "code",
   "execution_count": 5,
   "id": "dff9a4ce",
   "metadata": {},
   "outputs": [
    {
     "name": "stderr",
     "output_type": "stream",
     "text": [
      "                                                                                \r"
     ]
    }
   ],
   "source": [
    "#  Добавить проверку на количество записей в лог\n",
    "try:\n",
    "    activities = spark.read.parquet(*select_dates('2022-01-01', '2022-01-03'))\n",
    "except:\n",
    "    print('Нет данных за указанный диапазон!')"
   ]
  },
  {
   "cell_type": "code",
   "execution_count": 6,
   "id": "d624ef31",
   "metadata": {},
   "outputs": [
    {
     "name": "stderr",
     "output_type": "stream",
     "text": [
      "[Stage 1:>                                                          (0 + 1) / 1]\r"
     ]
    },
    {
     "name": "stdout",
     "output_type": "stream",
     "text": [
      "+--------------------------------------------------------------------------------------------------------------------------------------------------------------------------------------------------------------------------------------------------------------------------------------------------------+------------+-------------------+------------------+\n",
      "|event                                                                                                                                                                                                                                                                                                   |event_type  |lat                |lon               |\n",
      "+--------------------------------------------------------------------------------------------------------------------------------------------------------------------------------------------------------------------------------------------------------------------------------------------------------+------------+-------------------+------------------+\n",
      "|[,,,, can you get wirless modules with apt get?,, 51487,, 785046, 149488, 2021-01-03 16:34:36.870190384,,,,,,]                                                                                                                                                                                          |message     |-33.19046991689775 |116.39287115915579|\n",
      "|[,, 2022-01-03 20:16:48,,,,,,,,,,,, 450177,, 309117]                                                                                                                                                                                                                                                    |subscription|-18.327658706916782|147.2118652495049 |\n",
      "|[,,,, hi guys.. is there anything specific I need to do to get amarok working in (gnome) ubuntu? I've got the packages installed, and it can scan my music collection, but hangs when it tries to add any tracks to the playlist - ideas?,, 92107,, 274113, 149488, 2021-01-03 23:57:56.438909494,,,,,,]|message     |-27.41458320500978 |153.68611503577247|\n",
      "+--------------------------------------------------------------------------------------------------------------------------------------------------------------------------------------------------------------------------------------------------------------------------------------------------------+------------+-------------------+------------------+\n",
      "only showing top 3 rows\n",
      "\n"
     ]
    },
    {
     "name": "stderr",
     "output_type": "stream",
     "text": [
      "                                                                                \r"
     ]
    }
   ],
   "source": [
    "activities.show(3, truncate=False)"
   ]
  },
  {
   "cell_type": "code",
   "execution_count": 7,
   "id": "f3c9385c",
   "metadata": {},
   "outputs": [
    {
     "data": {
      "text/plain": [
       "StructType(List(StructField(event,StructType(List(StructField(admins,ArrayType(LongType,true),true),StructField(channel_id,LongType,true),StructField(datetime,StringType,true),StructField(media,StructType(List(StructField(media_type,StringType,true),StructField(src,StringType,true))),true),StructField(message,StringType,true),StructField(message_channel_to,LongType,true),StructField(message_from,LongType,true),StructField(message_group,LongType,true),StructField(message_id,LongType,true),StructField(message_to,LongType,true),StructField(message_ts,StringType,true),StructField(reaction_from,StringType,true),StructField(reaction_type,StringType,true),StructField(subscription_channel,LongType,true),StructField(subscription_user,StringType,true),StructField(tags,ArrayType(StringType,true),true),StructField(user,StringType,true))),true),StructField(event_type,StringType,true),StructField(lat,DoubleType,true),StructField(lon,DoubleType,true)))"
      ]
     },
     "execution_count": 7,
     "metadata": {},
     "output_type": "execute_result"
    }
   ],
   "source": [
    "activities.schema"
   ]
  },
  {
   "cell_type": "markdown",
   "id": "77e5aa16",
   "metadata": {},
   "source": [
    "### Города"
   ]
  },
  {
   "cell_type": "code",
   "execution_count": 8,
   "id": "15f245d4",
   "metadata": {},
   "outputs": [],
   "source": [
    "cities = spark.read.csv('/user/flaviusoct/data/coord', sep=';', header=True).withColumnRenamed('lat', 'ltt')"
   ]
  },
  {
   "cell_type": "code",
   "execution_count": 9,
   "id": "003f0c19",
   "metadata": {},
   "outputs": [
    {
     "name": "stdout",
     "output_type": "stream",
     "text": [
      "+---+---------+--------+--------+\n",
      "| id|     city|     ltt|     lng|\n",
      "+---+---------+--------+--------+\n",
      "|  1|   Sydney| -33,865|151,2094|\n",
      "|  2|Melbourne|-37,8136|144,9631|\n",
      "|  3| Brisbane|-27,4678|153,0281|\n",
      "+---+---------+--------+--------+\n",
      "only showing top 3 rows\n",
      "\n"
     ]
    }
   ],
   "source": [
    "cities.show(3)"
   ]
  },
  {
   "cell_type": "markdown",
   "id": "478f75fe",
   "metadata": {},
   "source": [
    "## Обработка данных"
   ]
  },
  {
   "cell_type": "code",
   "execution_count": 89,
   "id": "ff452ce0",
   "metadata": {},
   "outputs": [],
   "source": [
    "# Удаляем строки с пропущенными значениями координат\n",
    "\n",
    "activities_new = activities.where(\"lat IS NOT NULL AND lon IS NOT NULL\")"
   ]
  },
  {
   "cell_type": "code",
   "execution_count": 96,
   "id": "1032735c",
   "metadata": {},
   "outputs": [],
   "source": [
    "# Делаем одну колонку со временем\n",
    "# и добавляем колонку с уникальным id\n",
    "activities_new = activities_new \\\n",
    ".withColumn('datetime', F.coalesce(F.col('event.datetime'), F.col('event.message_ts')).cast('timestamp')) \\\n",
    "# Есть ли смысл????\n",
    ".orderBy(F.asc('datetime')) \\\n",
    "# В этом точно есть, ибо группировать ниже надо по какому-то общему идентификатору\n",
    "# в сообщениях и иных действиях. По умолчанию его нет.\n",
    ".withColumn('activity_id', F.monotonically_increasing_id())"
   ]
  },
  {
   "cell_type": "code",
   "execution_count": 97,
   "id": "d7fabac5",
   "metadata": {},
   "outputs": [
    {
     "name": "stdout",
     "output_type": "stream",
     "text": [
      "+-------------------------------------------------------------------------------------------------------------------------------------------+----------+-------------------+------------------+--------------------------+-----------+\n",
      "|event                                                                                                                                      |event_type|lat                |lon               |datetime                  |activity_id|\n",
      "+-------------------------------------------------------------------------------------------------------------------------------------------+----------+-------------------+------------------+--------------------------+-----------+\n",
      "|[,,,, do you need to add something to samba to enable windows sharing,, 30040,, 385953, 149488, 2021-01-01 00:00:24.248710480,,,,,,]       |message   |-34.052886090129995|150.89616994465248|2021-01-01 00:00:24.24871 |0          |\n",
      "|[,,,, May someone tell me how I can get the trash icon to use another icon?,, 143372,, 569895, 149488, 2021-01-01 00:00:38.252722098,,,,,,]|message   |-34.60060941945197 |149.86464442285128|2021-01-01 00:00:38.252722|1          |\n",
      "|[,,,, or can it be run as a single file? I am googling,,, 65260,, 60271, 149488, 2021-01-01 00:00:38.519855073,,,,,,]                      |message   |-23.01775420499237 |151.41145345592184|2021-01-01 00:00:38.519855|2          |\n",
      "+-------------------------------------------------------------------------------------------------------------------------------------------+----------+-------------------+------------------+--------------------------+-----------+\n",
      "only showing top 3 rows\n",
      "\n"
     ]
    }
   ],
   "source": [
    "activities_new.show(3, truncate=False)"
   ]
  },
  {
   "cell_type": "code",
   "execution_count": 99,
   "id": "7af49aea",
   "metadata": {},
   "outputs": [],
   "source": [
    "cities_new = cities \\\n",
    ".withColumn(\"ltt\", F.regexp_replace(F.col(\"ltt\"), pattern=',', replacement='.').cast(\"double\")) \\\n",
    ".withColumn(\"lng\", F.regexp_replace(F.col(\"lng\"), pattern=',', replacement='.').cast(\"double\"))"
   ]
  },
  {
   "cell_type": "markdown",
   "id": "e630752f",
   "metadata": {},
   "source": [
    "## Операции"
   ]
  },
  {
   "cell_type": "code",
   "execution_count": 107,
   "id": "f48e076e",
   "metadata": {},
   "outputs": [],
   "source": [
    "activities_new = activities_new.crossJoin(cities_new) \\\n",
    "        .withColumn('distance', calculate_dist) \\\n",
    "        .withColumn(\"distance_rank\",\n",
    "                    F.row_number().over(Window.partitionBy(\"activity_id\").orderBy(\"distance\"))) \\\n",
    "        .where(\"distance_rank == 1\")"
   ]
  },
  {
   "cell_type": "code",
   "execution_count": 108,
   "id": "b4b1fd4c",
   "metadata": {},
   "outputs": [
    {
     "name": "stdout",
     "output_type": "stream",
     "text": [
      "+--------------------+----------+-------------------+------------------+--------------------+------------+---+-----------+--------+--------+------------------+-------------+\n",
      "|               event|event_type|                lat|               lon|            datetime| activity_id| id|       city|     ltt|     lng|          distance|distance_rank|\n",
      "+--------------------+----------+-------------------+------------------+--------------------+------------+---+-----------+--------+--------+------------------+-------------+\n",
      "|[,,,, Hello! I wo...|   message| -26.60923828282186|153.15786533201094|2021-01-01 00:05:...|          26|  3|   Brisbane|-27.4678|153.0281| 95.45593089880165|            1|\n",
      "|[,,,, try to 'for...|   message| -31.77315708819572|116.21798444130923|2021-01-01 00:05:...|          29|  4|      Perth|-31.9522|115.8589|20.412973536009655|            1|\n",
      "|[,,,,  you mean t...|   message| -32.32697702659191|151.97297941789648|2021-01-01 01:13:...|  8589934658| 23|   Maitland|-32.7167|  151.55| 43.43551397081699|            1|\n",
      "|[,,,, yep,, 15526...|   message|  -34.0679962318871| 138.7833732523357|2021-01-01 03:24:...| 34359738398|  8|   Canberra|-35.2931|149.1269|  66.4437909711902|            1|\n",
      "|[,,,, no, but you...|   message| -37.45915451181159|145.12638227871355|2021-01-01 06:04:...| 60129542213| 18|   Ballarat|  -37.55|  143.85| 19.44231030848625|            1|\n",
      "|[,,,, not true!,,...|   message|-16.355413210816362|146.43384077681566|2021-01-01 06:47:...| 68719476787| 15|     Cairns|-16.9303|145.7703| 63.68054209511519|            1|\n",
      "|[,,,, And for fut...|   message| -32.01214770966839|152.00226478230053|2021-01-01 06:52:...| 68719476798| 23|   Maitland|-32.7167|  151.55| 78.40633590227348|            1|\n",
      "|[,,,, its 15 minu...|   message|-37.159699744031435|145.46283885646383|2021-01-01 07:38:...| 77309411361| 19|    Bendigo|  -36.75|144.2667| 47.10309423308006|            1|\n",
      "|[,,,, Is there a ...|   message|-27.446775391052125|153.66389959797755|2021-01-01 09:35:...| 94489280590| 14|    Ipswich|-27.6167|152.7667|15.329961108236182|            1|\n",
      "|[,,,, sure, if it...|   message|-23.087354432156637|151.27929040929698|2021-01-01 09:48:...| 94489280644| 22|Rockhampton| -23.375|150.5117|31.643078779611375|            1|\n",
      "|[,,,, yes, i did ...|   message|-34.419845351891816|149.84549497095102|2021-01-01 11:39:...|111669149835|  1|     Sydney| -33.865|151.2094| 59.59476480868312|            1|\n",
      "|[,,,, iwlist,, 66...|   message| -32.47466459243464|152.16587224587118|2021-01-01 13:36:...|137438953476| 23|   Maitland|-32.7167|  151.55| 27.25317149711617|            1|\n",
      "|[,,,, ok I will,,...|   message|-33.755267250137024|151.26805345004203|2021-01-01 14:32:...|146028888066|  1|     Sydney| -33.865|151.2094|12.182242888179642|            1|\n",
      "|[,,,, can't tell ...|   message| -32.93043685203154|151.71071176626452|2021-01-01 14:37:...|146028888086|  9|  Newcastle|-32.9167|  151.75|1.5338579612714223|            1|\n",
      "|[,,,, paid work g...|   message| -34.49902004834695| 139.2345583831191|2021-01-01 14:55:...|146028888159|  5|   Adelaide|-34.9289|138.6011| 47.09974071169058|            1|\n",
      "|[,,,, no... it wa...|   message|-11.565844026116194|131.46107061743825|2021-01-01 15:44:...|154618822760| 17|     Darwin|-12.4381|130.8411| 97.40503418088848|            1|\n",
      "|[,,,, question......|   message|-16.777897386832546|146.36119265355921|2021-01-01 16:34:...|163208757352| 15|     Cairns|-16.9303|145.7703|16.203350950326247|            1|\n",
      "|[,,,, can't you f...|   message| -42.38549402356909|147.99169396527793|2021-01-01 18:28:...|180388626584| 12|     Hobart|-42.8806| 147.325| 55.34339940354651|            1|\n",
      "|[,,,, : just ask ...|   message|-27.143602873669394|153.13061178042028|2021-01-01 19:18:...|188978561188|  3|   Brisbane|-27.4678|153.0281|36.029701502848376|            1|\n",
      "|[,,,, oh god. if ...|   message|-34.935698045655194|150.03054436430986|2021-01-01 19:58:...|197568495762|  8|   Canberra|-35.2931|149.1269| 38.37007398344775|            1|\n",
      "+--------------------+----------+-------------------+------------------+--------------------+------------+---+-----------+--------+--------+------------------+-------------+\n",
      "only showing top 20 rows\n",
      "\n"
     ]
    }
   ],
   "source": [
    "activities_new.show()"
   ]
  },
  {
   "cell_type": "code",
   "execution_count": 6,
   "id": "ab1c344e",
   "metadata": {},
   "outputs": [
    {
     "name": "stdout",
     "output_type": "stream",
     "text": [
      "Found 303 items\n",
      "-r-xr-xr-x   1 ubuntu hadoop     258489 2022-12-06 12:50 /user/master/data/geo/events/date=2022-01-01/part-00006-82f846d5-74a4-44e0-8fa9-de643f825932.c000.snappy.parquet\n",
      "-r-xr-xr-x   1 ubuntu hadoop      13069 2022-12-06 12:50 /user/master/data/geo/events/date=2022-01-01/part-00937-82f846d5-74a4-44e0-8fa9-de643f825932.c000.snappy.parquet\n",
      "-r-xr-xr-x   1 ubuntu hadoop      13014 2022-12-06 12:50 /user/master/data/geo/events/date=2022-01-01/part-00939-82f846d5-74a4-44e0-8fa9-de643f825932.c000.snappy.parquet\n",
      "-r-xr-xr-x   1 ubuntu hadoop      12868 2022-12-06 12:50 /user/master/data/geo/events/date=2022-01-01/part-00947-82f846d5-74a4-44e0-8fa9-de643f825932.c000.snappy.parquet\n",
      "-r-xr-xr-x   1 ubuntu hadoop      12848 2022-12-06 12:50 /user/master/data/geo/events/date=2022-01-01/part-00949-82f846d5-74a4-44e0-8fa9-de643f825932.c000.snappy.parquet\n",
      "-r-xr-xr-x   1 ubuntu hadoop      18737 2022-12-06 12:50 /user/master/data/geo/events/date=2022-01-01/part-00960-82f846d5-74a4-44e0-8fa9-de643f825932.c000.snappy.parquet\n",
      "-r-xr-xr-x   1 ubuntu hadoop      18980 2022-12-06 12:50 /user/master/data/geo/events/date=2022-01-01/part-00961-82f846d5-74a4-44e0-8fa9-de643f825932.c000.snappy.parquet\n",
      "-r-xr-xr-x   1 ubuntu hadoop      12461 2022-12-06 12:50 /user/master/data/geo/events/date=2022-01-01/part-00964-82f846d5-74a4-44e0-8fa9-de643f825932.c000.snappy.parquet\n",
      "-r-xr-xr-x   1 ubuntu hadoop      12297 2022-12-06 12:50 /user/master/data/geo/events/date=2022-01-01/part-00969-82f846d5-74a4-44e0-8fa9-de643f825932.c000.snappy.parquet\n",
      "-r-xr-xr-x   1 ubuntu hadoop      12303 2022-12-06 12:50 /user/master/data/geo/events/date=2022-01-01/part-00970-82f846d5-74a4-44e0-8fa9-de643f825932.c000.snappy.parquet\n",
      "-r-xr-xr-x   1 ubuntu hadoop      12306 2022-12-06 12:50 /user/master/data/geo/events/date=2022-01-01/part-00972-82f846d5-74a4-44e0-8fa9-de643f825932.c000.snappy.parquet\n",
      "-r-xr-xr-x   1 ubuntu hadoop      24022 2022-12-06 12:50 /user/master/data/geo/events/date=2022-01-01/part-00974-82f846d5-74a4-44e0-8fa9-de643f825932.c000.snappy.parquet\n",
      "-r-xr-xr-x   1 ubuntu hadoop      18914 2022-12-06 12:50 /user/master/data/geo/events/date=2022-01-01/part-00975-82f846d5-74a4-44e0-8fa9-de643f825932.c000.snappy.parquet\n",
      "-r-xr-xr-x   1 ubuntu hadoop      23673 2022-12-06 12:50 /user/master/data/geo/events/date=2022-01-01/part-00980-82f846d5-74a4-44e0-8fa9-de643f825932.c000.snappy.parquet\n",
      "-r-xr-xr-x   1 ubuntu hadoop      12154 2022-12-06 12:50 /user/master/data/geo/events/date=2022-01-01/part-00981-82f846d5-74a4-44e0-8fa9-de643f825932.c000.snappy.parquet\n",
      "-r-xr-xr-x   1 ubuntu hadoop      18333 2022-12-06 12:50 /user/master/data/geo/events/date=2022-01-01/part-00984-82f846d5-74a4-44e0-8fa9-de643f825932.c000.snappy.parquet\n",
      "-r-xr-xr-x   1 ubuntu hadoop      12109 2022-12-06 12:50 /user/master/data/geo/events/date=2022-01-01/part-00985-82f846d5-74a4-44e0-8fa9-de643f825932.c000.snappy.parquet\n",
      "-r-xr-xr-x   1 ubuntu hadoop      12030 2022-12-06 12:50 /user/master/data/geo/events/date=2022-01-01/part-00988-82f846d5-74a4-44e0-8fa9-de643f825932.c000.snappy.parquet\n",
      "-r-xr-xr-x   1 ubuntu hadoop      23707 2022-12-06 12:50 /user/master/data/geo/events/date=2022-01-01/part-00989-82f846d5-74a4-44e0-8fa9-de643f825932.c000.snappy.parquet\n",
      "-r-xr-xr-x   1 ubuntu hadoop      11965 2022-12-06 12:50 /user/master/data/geo/events/date=2022-01-01/part-00990-82f846d5-74a4-44e0-8fa9-de643f825932.c000.snappy.parquet\n",
      "-r-xr-xr-x   1 ubuntu hadoop      12003 2022-12-06 12:50 /user/master/data/geo/events/date=2022-01-01/part-00991-82f846d5-74a4-44e0-8fa9-de643f825932.c000.snappy.parquet\n",
      "-r-xr-xr-x   1 ubuntu hadoop      28508 2022-12-06 12:50 /user/master/data/geo/events/date=2022-01-01/part-00993-82f846d5-74a4-44e0-8fa9-de643f825932.c000.snappy.parquet\n",
      "-r-xr-xr-x   1 ubuntu hadoop      11933 2022-12-06 12:50 /user/master/data/geo/events/date=2022-01-01/part-00994-82f846d5-74a4-44e0-8fa9-de643f825932.c000.snappy.parquet\n",
      "-r-xr-xr-x   1 ubuntu hadoop      11939 2022-12-06 12:50 /user/master/data/geo/events/date=2022-01-01/part-00995-82f846d5-74a4-44e0-8fa9-de643f825932.c000.snappy.parquet\n",
      "-r-xr-xr-x   1 ubuntu hadoop      11901 2022-12-06 12:50 /user/master/data/geo/events/date=2022-01-01/part-00996-82f846d5-74a4-44e0-8fa9-de643f825932.c000.snappy.parquet\n",
      "-r-xr-xr-x   1 ubuntu hadoop      17606 2022-12-06 12:50 /user/master/data/geo/events/date=2022-01-01/part-00997-82f846d5-74a4-44e0-8fa9-de643f825932.c000.snappy.parquet\n",
      "-r-xr-xr-x   1 ubuntu hadoop      11819 2022-12-06 12:50 /user/master/data/geo/events/date=2022-01-01/part-01000-82f846d5-74a4-44e0-8fa9-de643f825932.c000.snappy.parquet\n",
      "-r-xr-xr-x   1 ubuntu hadoop      17112 2022-12-06 12:50 /user/master/data/geo/events/date=2022-01-01/part-01002-82f846d5-74a4-44e0-8fa9-de643f825932.c000.snappy.parquet\n",
      "-r-xr-xr-x   1 ubuntu hadoop      11809 2022-12-06 12:50 /user/master/data/geo/events/date=2022-01-01/part-01003-82f846d5-74a4-44e0-8fa9-de643f825932.c000.snappy.parquet\n",
      "-r-xr-xr-x   1 ubuntu hadoop      11822 2022-12-06 12:50 /user/master/data/geo/events/date=2022-01-01/part-01004-82f846d5-74a4-44e0-8fa9-de643f825932.c000.snappy.parquet\n",
      "-r-xr-xr-x   1 ubuntu hadoop      17390 2022-12-06 12:50 /user/master/data/geo/events/date=2022-01-01/part-01006-82f846d5-74a4-44e0-8fa9-de643f825932.c000.snappy.parquet\n",
      "-r-xr-xr-x   1 ubuntu hadoop      17390 2022-12-06 12:50 /user/master/data/geo/events/date=2022-01-01/part-01010-82f846d5-74a4-44e0-8fa9-de643f825932.c000.snappy.parquet\n",
      "-r-xr-xr-x   1 ubuntu hadoop      11694 2022-12-06 12:50 /user/master/data/geo/events/date=2022-01-01/part-01011-82f846d5-74a4-44e0-8fa9-de643f825932.c000.snappy.parquet\n",
      "-r-xr-xr-x   1 ubuntu hadoop      17235 2022-12-06 12:50 /user/master/data/geo/events/date=2022-01-01/part-01012-82f846d5-74a4-44e0-8fa9-de643f825932.c000.snappy.parquet\n",
      "-r-xr-xr-x   1 ubuntu hadoop      17319 2022-12-06 12:50 /user/master/data/geo/events/date=2022-01-01/part-01013-82f846d5-74a4-44e0-8fa9-de643f825932.c000.snappy.parquet\n",
      "-r-xr-xr-x   1 ubuntu hadoop      22695 2022-12-06 12:50 /user/master/data/geo/events/date=2022-01-01/part-01015-82f846d5-74a4-44e0-8fa9-de643f825932.c000.snappy.parquet\n",
      "-r-xr-xr-x   1 ubuntu hadoop      11617 2022-12-06 12:50 /user/master/data/geo/events/date=2022-01-01/part-01016-82f846d5-74a4-44e0-8fa9-de643f825932.c000.snappy.parquet\n",
      "-r-xr-xr-x   1 ubuntu hadoop      11689 2022-12-06 12:50 /user/master/data/geo/events/date=2022-01-01/part-01017-82f846d5-74a4-44e0-8fa9-de643f825932.c000.snappy.parquet\n",
      "-r-xr-xr-x   1 ubuntu hadoop      11619 2022-12-06 12:50 /user/master/data/geo/events/date=2022-01-01/part-01018-82f846d5-74a4-44e0-8fa9-de643f825932.c000.snappy.parquet\n",
      "-r-xr-xr-x   1 ubuntu hadoop      17085 2022-12-06 12:50 /user/master/data/geo/events/date=2022-01-01/part-01019-82f846d5-74a4-44e0-8fa9-de643f825932.c000.snappy.parquet\n",
      "-r-xr-xr-x   1 ubuntu hadoop      11547 2022-12-06 12:50 /user/master/data/geo/events/date=2022-01-01/part-01020-82f846d5-74a4-44e0-8fa9-de643f825932.c000.snappy.parquet\n",
      "-r-xr-xr-x   1 ubuntu hadoop      11568 2022-12-06 12:50 /user/master/data/geo/events/date=2022-01-01/part-01021-82f846d5-74a4-44e0-8fa9-de643f825932.c000.snappy.parquet\n",
      "-r-xr-xr-x   1 ubuntu hadoop      11585 2022-12-06 12:50 /user/master/data/geo/events/date=2022-01-01/part-01022-82f846d5-74a4-44e0-8fa9-de643f825932.c000.snappy.parquet\n",
      "-r-xr-xr-x   1 ubuntu hadoop      17092 2022-12-06 12:50 /user/master/data/geo/events/date=2022-01-01/part-01024-82f846d5-74a4-44e0-8fa9-de643f825932.c000.snappy.parquet\n",
      "-r-xr-xr-x   1 ubuntu hadoop      22186 2022-12-06 12:50 /user/master/data/geo/events/date=2022-01-01/part-01025-82f846d5-74a4-44e0-8fa9-de643f825932.c000.snappy.parquet\n",
      "-r-xr-xr-x   1 ubuntu hadoop      17004 2022-12-06 12:50 /user/master/data/geo/events/date=2022-01-01/part-01029-82f846d5-74a4-44e0-8fa9-de643f825932.c000.snappy.parquet\n",
      "-r-xr-xr-x   1 ubuntu hadoop      11512 2022-12-06 12:50 /user/master/data/geo/events/date=2022-01-01/part-01030-82f846d5-74a4-44e0-8fa9-de643f825932.c000.snappy.parquet\n",
      "-r-xr-xr-x   1 ubuntu hadoop      11456 2022-12-06 12:50 /user/master/data/geo/events/date=2022-01-01/part-01033-82f846d5-74a4-44e0-8fa9-de643f825932.c000.snappy.parquet\n",
      "-r-xr-xr-x   1 ubuntu hadoop      17030 2022-12-06 12:50 /user/master/data/geo/events/date=2022-01-01/part-01036-82f846d5-74a4-44e0-8fa9-de643f825932.c000.snappy.parquet\n",
      "-r-xr-xr-x   1 ubuntu hadoop      11502 2022-12-06 12:50 /user/master/data/geo/events/date=2022-01-01/part-01039-82f846d5-74a4-44e0-8fa9-de643f825932.c000.snappy.parquet\n",
      "-r-xr-xr-x   1 ubuntu hadoop      21832 2022-12-06 12:50 /user/master/data/geo/events/date=2022-01-01/part-01040-82f846d5-74a4-44e0-8fa9-de643f825932.c000.snappy.parquet\n",
      "-r-xr-xr-x   1 ubuntu hadoop      11449 2022-12-06 12:50 /user/master/data/geo/events/date=2022-01-01/part-01042-82f846d5-74a4-44e0-8fa9-de643f825932.c000.snappy.parquet\n",
      "-r-xr-xr-x   1 ubuntu hadoop      11371 2022-12-06 12:50 /user/master/data/geo/events/date=2022-01-01/part-01044-82f846d5-74a4-44e0-8fa9-de643f825932.c000.snappy.parquet\n",
      "-r-xr-xr-x   1 ubuntu hadoop      11379 2022-12-06 12:50 /user/master/data/geo/events/date=2022-01-01/part-01045-82f846d5-74a4-44e0-8fa9-de643f825932.c000.snappy.parquet\n",
      "-r-xr-xr-x   1 ubuntu hadoop      11316 2022-12-06 12:50 /user/master/data/geo/events/date=2022-01-01/part-01046-82f846d5-74a4-44e0-8fa9-de643f825932.c000.snappy.parquet\n",
      "-r-xr-xr-x   1 ubuntu hadoop      11289 2022-12-06 12:50 /user/master/data/geo/events/date=2022-01-01/part-01048-82f846d5-74a4-44e0-8fa9-de643f825932.c000.snappy.parquet\n",
      "-r-xr-xr-x   1 ubuntu hadoop      11298 2022-12-06 12:50 /user/master/data/geo/events/date=2022-01-01/part-01049-82f846d5-74a4-44e0-8fa9-de643f825932.c000.snappy.parquet\n",
      "-r-xr-xr-x   1 ubuntu hadoop      21711 2022-12-06 12:50 /user/master/data/geo/events/date=2022-01-01/part-01051-82f846d5-74a4-44e0-8fa9-de643f825932.c000.snappy.parquet\n",
      "-r-xr-xr-x   1 ubuntu hadoop      11291 2022-12-06 12:50 /user/master/data/geo/events/date=2022-01-01/part-01052-82f846d5-74a4-44e0-8fa9-de643f825932.c000.snappy.parquet\n",
      "-r-xr-xr-x   1 ubuntu hadoop      16409 2022-12-06 12:50 /user/master/data/geo/events/date=2022-01-01/part-01055-82f846d5-74a4-44e0-8fa9-de643f825932.c000.snappy.parquet\n",
      "-r-xr-xr-x   1 ubuntu hadoop      11230 2022-12-06 12:50 /user/master/data/geo/events/date=2022-01-01/part-01056-82f846d5-74a4-44e0-8fa9-de643f825932.c000.snappy.parquet\n",
      "-r-xr-xr-x   1 ubuntu hadoop      11279 2022-12-06 12:50 /user/master/data/geo/events/date=2022-01-01/part-01057-82f846d5-74a4-44e0-8fa9-de643f825932.c000.snappy.parquet\n",
      "-r-xr-xr-x   1 ubuntu hadoop      16147 2022-12-06 12:50 /user/master/data/geo/events/date=2022-01-01/part-01058-82f846d5-74a4-44e0-8fa9-de643f825932.c000.snappy.parquet\n",
      "-r-xr-xr-x   1 ubuntu hadoop      16444 2022-12-06 12:50 /user/master/data/geo/events/date=2022-01-01/part-01059-82f846d5-74a4-44e0-8fa9-de643f825932.c000.snappy.parquet\n",
      "-r-xr-xr-x   1 ubuntu hadoop      11169 2022-12-06 12:50 /user/master/data/geo/events/date=2022-01-01/part-01060-82f846d5-74a4-44e0-8fa9-de643f825932.c000.snappy.parquet\n",
      "-r-xr-xr-x   1 ubuntu hadoop      16305 2022-12-06 12:50 /user/master/data/geo/events/date=2022-01-01/part-01062-82f846d5-74a4-44e0-8fa9-de643f825932.c000.snappy.parquet\n",
      "-r-xr-xr-x   1 ubuntu hadoop      16015 2022-12-06 12:50 /user/master/data/geo/events/date=2022-01-01/part-01063-82f846d5-74a4-44e0-8fa9-de643f825932.c000.snappy.parquet\n",
      "-r-xr-xr-x   1 ubuntu hadoop      16238 2022-12-06 12:50 /user/master/data/geo/events/date=2022-01-01/part-01064-82f846d5-74a4-44e0-8fa9-de643f825932.c000.snappy.parquet\n",
      "-r-xr-xr-x   1 ubuntu hadoop      11133 2022-12-06 12:50 /user/master/data/geo/events/date=2022-01-01/part-01065-82f846d5-74a4-44e0-8fa9-de643f825932.c000.snappy.parquet\n",
      "-r-xr-xr-x   1 ubuntu hadoop      20931 2022-12-06 12:50 /user/master/data/geo/events/date=2022-01-01/part-01066-82f846d5-74a4-44e0-8fa9-de643f825932.c000.snappy.parquet\n",
      "-r-xr-xr-x   1 ubuntu hadoop      16387 2022-12-06 12:50 /user/master/data/geo/events/date=2022-01-01/part-01067-82f846d5-74a4-44e0-8fa9-de643f825932.c000.snappy.parquet\n",
      "-r-xr-xr-x   1 ubuntu hadoop      16143 2022-12-06 12:50 /user/master/data/geo/events/date=2022-01-01/part-01070-82f846d5-74a4-44e0-8fa9-de643f825932.c000.snappy.parquet\n",
      "-r-xr-xr-x   1 ubuntu hadoop      11141 2022-12-06 12:50 /user/master/data/geo/events/date=2022-01-01/part-01071-82f846d5-74a4-44e0-8fa9-de643f825932.c000.snappy.parquet\n",
      "-r-xr-xr-x   1 ubuntu hadoop      11048 2022-12-06 12:50 /user/master/data/geo/events/date=2022-01-01/part-01073-82f846d5-74a4-44e0-8fa9-de643f825932.c000.snappy.parquet\n",
      "-r-xr-xr-x   1 ubuntu hadoop      11047 2022-12-06 12:50 /user/master/data/geo/events/date=2022-01-01/part-01074-82f846d5-74a4-44e0-8fa9-de643f825932.c000.snappy.parquet\n",
      "-r-xr-xr-x   1 ubuntu hadoop      11081 2022-12-06 12:50 /user/master/data/geo/events/date=2022-01-01/part-01075-82f846d5-74a4-44e0-8fa9-de643f825932.c000.snappy.parquet\n",
      "-r-xr-xr-x   1 ubuntu hadoop      11073 2022-12-06 12:50 /user/master/data/geo/events/date=2022-01-01/part-01077-82f846d5-74a4-44e0-8fa9-de643f825932.c000.snappy.parquet\n",
      "-r-xr-xr-x   1 ubuntu hadoop      11047 2022-12-06 12:50 /user/master/data/geo/events/date=2022-01-01/part-01078-82f846d5-74a4-44e0-8fa9-de643f825932.c000.snappy.parquet\n",
      "-r-xr-xr-x   1 ubuntu hadoop      15786 2022-12-06 12:50 /user/master/data/geo/events/date=2022-01-01/part-01079-82f846d5-74a4-44e0-8fa9-de643f825932.c000.snappy.parquet\n",
      "-r-xr-xr-x   1 ubuntu hadoop      10975 2022-12-06 12:50 /user/master/data/geo/events/date=2022-01-01/part-01080-82f846d5-74a4-44e0-8fa9-de643f825932.c000.snappy.parquet\n",
      "-r-xr-xr-x   1 ubuntu hadoop      21546 2022-12-06 12:50 /user/master/data/geo/events/date=2022-01-01/part-01081-82f846d5-74a4-44e0-8fa9-de643f825932.c000.snappy.parquet\n",
      "-r-xr-xr-x   1 ubuntu hadoop      20750 2022-12-06 12:50 /user/master/data/geo/events/date=2022-01-01/part-01082-82f846d5-74a4-44e0-8fa9-de643f825932.c000.snappy.parquet\n",
      "-r-xr-xr-x   1 ubuntu hadoop      20964 2022-12-06 12:50 /user/master/data/geo/events/date=2022-01-01/part-01084-82f846d5-74a4-44e0-8fa9-de643f825932.c000.snappy.parquet\n",
      "-r-xr-xr-x   1 ubuntu hadoop      20695 2022-12-06 12:50 /user/master/data/geo/events/date=2022-01-01/part-01085-82f846d5-74a4-44e0-8fa9-de643f825932.c000.snappy.parquet\n",
      "-r-xr-xr-x   1 ubuntu hadoop      15851 2022-12-06 12:50 /user/master/data/geo/events/date=2022-01-01/part-01086-82f846d5-74a4-44e0-8fa9-de643f825932.c000.snappy.parquet\n",
      "-r-xr-xr-x   1 ubuntu hadoop      15821 2022-12-06 12:50 /user/master/data/geo/events/date=2022-01-01/part-01088-82f846d5-74a4-44e0-8fa9-de643f825932.c000.snappy.parquet\n",
      "-r-xr-xr-x   1 ubuntu hadoop      10962 2022-12-06 12:50 /user/master/data/geo/events/date=2022-01-01/part-01089-82f846d5-74a4-44e0-8fa9-de643f825932.c000.snappy.parquet\n",
      "-r-xr-xr-x   1 ubuntu hadoop      15515 2022-12-06 12:50 /user/master/data/geo/events/date=2022-01-01/part-01091-82f846d5-74a4-44e0-8fa9-de643f825932.c000.snappy.parquet\n",
      "-r-xr-xr-x   1 ubuntu hadoop      10899 2022-12-06 12:50 /user/master/data/geo/events/date=2022-01-01/part-01092-82f846d5-74a4-44e0-8fa9-de643f825932.c000.snappy.parquet\n",
      "-r-xr-xr-x   1 ubuntu hadoop      15713 2022-12-06 12:50 /user/master/data/geo/events/date=2022-01-01/part-01093-82f846d5-74a4-44e0-8fa9-de643f825932.c000.snappy.parquet\n",
      "-r-xr-xr-x   1 ubuntu hadoop      10822 2022-12-06 12:50 /user/master/data/geo/events/date=2022-01-01/part-01094-82f846d5-74a4-44e0-8fa9-de643f825932.c000.snappy.parquet\n",
      "-r-xr-xr-x   1 ubuntu hadoop      15731 2022-12-06 12:50 /user/master/data/geo/events/date=2022-01-01/part-01095-82f846d5-74a4-44e0-8fa9-de643f825932.c000.snappy.parquet\n",
      "-r-xr-xr-x   1 ubuntu hadoop      10801 2022-12-06 12:50 /user/master/data/geo/events/date=2022-01-01/part-01096-82f846d5-74a4-44e0-8fa9-de643f825932.c000.snappy.parquet\n",
      "-r-xr-xr-x   1 ubuntu hadoop      15740 2022-12-06 12:50 /user/master/data/geo/events/date=2022-01-01/part-01097-82f846d5-74a4-44e0-8fa9-de643f825932.c000.snappy.parquet\n",
      "-r-xr-xr-x   1 ubuntu hadoop      10829 2022-12-06 12:50 /user/master/data/geo/events/date=2022-01-01/part-01098-82f846d5-74a4-44e0-8fa9-de643f825932.c000.snappy.parquet\n",
      "-r-xr-xr-x   1 ubuntu hadoop      10870 2022-12-06 12:50 /user/master/data/geo/events/date=2022-01-01/part-01099-82f846d5-74a4-44e0-8fa9-de643f825932.c000.snappy.parquet\n",
      "-r-xr-xr-x   1 ubuntu hadoop      10788 2022-12-06 12:50 /user/master/data/geo/events/date=2022-01-01/part-01101-82f846d5-74a4-44e0-8fa9-de643f825932.c000.snappy.parquet\n",
      "-r-xr-xr-x   1 ubuntu hadoop      10775 2022-12-06 12:50 /user/master/data/geo/events/date=2022-01-01/part-01103-82f846d5-74a4-44e0-8fa9-de643f825932.c000.snappy.parquet\n",
      "-r-xr-xr-x   1 ubuntu hadoop      10721 2022-12-06 12:50 /user/master/data/geo/events/date=2022-01-01/part-01104-82f846d5-74a4-44e0-8fa9-de643f825932.c000.snappy.parquet\n",
      "-r-xr-xr-x   1 ubuntu hadoop      10797 2022-12-06 12:50 /user/master/data/geo/events/date=2022-01-01/part-01106-82f846d5-74a4-44e0-8fa9-de643f825932.c000.snappy.parquet\n",
      "-r-xr-xr-x   1 ubuntu hadoop      10712 2022-12-06 12:50 /user/master/data/geo/events/date=2022-01-01/part-01108-82f846d5-74a4-44e0-8fa9-de643f825932.c000.snappy.parquet\n",
      "-r-xr-xr-x   1 ubuntu hadoop      20212 2022-12-06 12:50 /user/master/data/geo/events/date=2022-01-01/part-01109-82f846d5-74a4-44e0-8fa9-de643f825932.c000.snappy.parquet\n",
      "-r-xr-xr-x   1 ubuntu hadoop      10686 2022-12-06 12:50 /user/master/data/geo/events/date=2022-01-01/part-01111-82f846d5-74a4-44e0-8fa9-de643f825932.c000.snappy.parquet\n",
      "-r-xr-xr-x   1 ubuntu hadoop      10632 2022-12-06 12:50 /user/master/data/geo/events/date=2022-01-01/part-01112-82f846d5-74a4-44e0-8fa9-de643f825932.c000.snappy.parquet\n",
      "-r-xr-xr-x   1 ubuntu hadoop      10646 2022-12-06 12:50 /user/master/data/geo/events/date=2022-01-01/part-01113-82f846d5-74a4-44e0-8fa9-de643f825932.c000.snappy.parquet\n",
      "-r-xr-xr-x   1 ubuntu hadoop      10614 2022-12-06 12:50 /user/master/data/geo/events/date=2022-01-01/part-01115-82f846d5-74a4-44e0-8fa9-de643f825932.c000.snappy.parquet\n",
      "-r-xr-xr-x   1 ubuntu hadoop      10569 2022-12-06 12:50 /user/master/data/geo/events/date=2022-01-01/part-01116-82f846d5-74a4-44e0-8fa9-de643f825932.c000.snappy.parquet\n",
      "-r-xr-xr-x   1 ubuntu hadoop      10522 2022-12-06 12:50 /user/master/data/geo/events/date=2022-01-01/part-01121-82f846d5-74a4-44e0-8fa9-de643f825932.c000.snappy.parquet\n",
      "-r-xr-xr-x   1 ubuntu hadoop      10461 2022-12-06 12:50 /user/master/data/geo/events/date=2022-01-01/part-01125-82f846d5-74a4-44e0-8fa9-de643f825932.c000.snappy.parquet\n",
      "-r-xr-xr-x   1 ubuntu hadoop      10461 2022-12-06 12:50 /user/master/data/geo/events/date=2022-01-01/part-01127-82f846d5-74a4-44e0-8fa9-de643f825932.c000.snappy.parquet\n",
      "-r-xr-xr-x   1 ubuntu hadoop      10473 2022-12-06 12:50 /user/master/data/geo/events/date=2022-01-01/part-01129-82f846d5-74a4-44e0-8fa9-de643f825932.c000.snappy.parquet\n",
      "-r-xr-xr-x   1 ubuntu hadoop      14927 2022-12-06 12:50 /user/master/data/geo/events/date=2022-01-01/part-01130-82f846d5-74a4-44e0-8fa9-de643f825932.c000.snappy.parquet\n",
      "-r-xr-xr-x   1 ubuntu hadoop      10295 2022-12-06 12:50 /user/master/data/geo/events/date=2022-01-01/part-01131-82f846d5-74a4-44e0-8fa9-de643f825932.c000.snappy.parquet\n",
      "-r-xr-xr-x   1 ubuntu hadoop      10458 2022-12-06 12:50 /user/master/data/geo/events/date=2022-01-01/part-01133-82f846d5-74a4-44e0-8fa9-de643f825932.c000.snappy.parquet\n",
      "-r-xr-xr-x   1 ubuntu hadoop      19007 2022-12-06 12:50 /user/master/data/geo/events/date=2022-01-01/part-01134-82f846d5-74a4-44e0-8fa9-de643f825932.c000.snappy.parquet\n",
      "-r-xr-xr-x   1 ubuntu hadoop      10371 2022-12-06 12:50 /user/master/data/geo/events/date=2022-01-01/part-01136-82f846d5-74a4-44e0-8fa9-de643f825932.c000.snappy.parquet\n",
      "-r-xr-xr-x   1 ubuntu hadoop      10371 2022-12-06 12:50 /user/master/data/geo/events/date=2022-01-01/part-01137-82f846d5-74a4-44e0-8fa9-de643f825932.c000.snappy.parquet\n",
      "-r-xr-xr-x   1 ubuntu hadoop      10282 2022-12-06 12:50 /user/master/data/geo/events/date=2022-01-01/part-01141-82f846d5-74a4-44e0-8fa9-de643f825932.c000.snappy.parquet\n",
      "-r-xr-xr-x   1 ubuntu hadoop      10248 2022-12-06 12:50 /user/master/data/geo/events/date=2022-01-01/part-01142-82f846d5-74a4-44e0-8fa9-de643f825932.c000.snappy.parquet\n",
      "-r-xr-xr-x   1 ubuntu hadoop      22571 2022-12-06 12:50 /user/master/data/geo/events/date=2022-01-01/part-01144-82f846d5-74a4-44e0-8fa9-de643f825932.c000.snappy.parquet\n",
      "-r-xr-xr-x   1 ubuntu hadoop      14508 2022-12-06 12:50 /user/master/data/geo/events/date=2022-01-01/part-01146-82f846d5-74a4-44e0-8fa9-de643f825932.c000.snappy.parquet\n",
      "-r-xr-xr-x   1 ubuntu hadoop      10147 2022-12-06 12:50 /user/master/data/geo/events/date=2022-01-01/part-01149-82f846d5-74a4-44e0-8fa9-de643f825932.c000.snappy.parquet\n",
      "-r-xr-xr-x   1 ubuntu hadoop      10095 2022-12-06 12:50 /user/master/data/geo/events/date=2022-01-01/part-01151-82f846d5-74a4-44e0-8fa9-de643f825932.c000.snappy.parquet\n",
      "-r-xr-xr-x   1 ubuntu hadoop      10127 2022-12-06 12:50 /user/master/data/geo/events/date=2022-01-01/part-01152-82f846d5-74a4-44e0-8fa9-de643f825932.c000.snappy.parquet\n",
      "-r-xr-xr-x   1 ubuntu hadoop      10114 2022-12-06 12:50 /user/master/data/geo/events/date=2022-01-01/part-01153-82f846d5-74a4-44e0-8fa9-de643f825932.c000.snappy.parquet\n",
      "-r-xr-xr-x   1 ubuntu hadoop       9963 2022-12-06 12:50 /user/master/data/geo/events/date=2022-01-01/part-01161-82f846d5-74a4-44e0-8fa9-de643f825932.c000.snappy.parquet\n",
      "-r-xr-xr-x   1 ubuntu hadoop       9993 2022-12-06 12:50 /user/master/data/geo/events/date=2022-01-01/part-01163-82f846d5-74a4-44e0-8fa9-de643f825932.c000.snappy.parquet\n",
      "-r-xr-xr-x   1 ubuntu hadoop       9941 2022-12-06 12:50 /user/master/data/geo/events/date=2022-01-01/part-01164-82f846d5-74a4-44e0-8fa9-de643f825932.c000.snappy.parquet\n",
      "-r-xr-xr-x   1 ubuntu hadoop       9889 2022-12-06 12:50 /user/master/data/geo/events/date=2022-01-01/part-01168-82f846d5-74a4-44e0-8fa9-de643f825932.c000.snappy.parquet\n",
      "-r-xr-xr-x   1 ubuntu hadoop       9766 2022-12-06 12:50 /user/master/data/geo/events/date=2022-01-01/part-01172-82f846d5-74a4-44e0-8fa9-de643f825932.c000.snappy.parquet\n",
      "-r-xr-xr-x   1 ubuntu hadoop      17425 2022-12-06 12:50 /user/master/data/geo/events/date=2022-01-01/part-01174-82f846d5-74a4-44e0-8fa9-de643f825932.c000.snappy.parquet\n",
      "-r-xr-xr-x   1 ubuntu hadoop       9596 2022-12-06 12:50 /user/master/data/geo/events/date=2022-01-01/part-01186-82f846d5-74a4-44e0-8fa9-de643f825932.c000.snappy.parquet\n",
      "-r-xr-xr-x   1 ubuntu hadoop       9601 2022-12-06 12:50 /user/master/data/geo/events/date=2022-01-01/part-01188-82f846d5-74a4-44e0-8fa9-de643f825932.c000.snappy.parquet\n",
      "-r-xr-xr-x   1 ubuntu hadoop       9574 2022-12-06 12:50 /user/master/data/geo/events/date=2022-01-01/part-01190-82f846d5-74a4-44e0-8fa9-de643f825932.c000.snappy.parquet\n",
      "-r-xr-xr-x   1 ubuntu hadoop       9522 2022-12-06 12:50 /user/master/data/geo/events/date=2022-01-01/part-01193-82f846d5-74a4-44e0-8fa9-de643f825932.c000.snappy.parquet\n",
      "-r-xr-xr-x   1 ubuntu hadoop       9096 2022-12-06 12:50 /user/master/data/geo/events/date=2022-01-01/part-01206-82f846d5-74a4-44e0-8fa9-de643f825932.c000.snappy.parquet\n",
      "-r-xr-xr-x   1 ubuntu hadoop       8491 2022-12-06 12:50 /user/master/data/geo/events/date=2022-01-01/part-01241-82f846d5-74a4-44e0-8fa9-de643f825932.c000.snappy.parquet\n",
      "-r-xr-xr-x   1 ubuntu hadoop       8818 2022-12-06 12:50 /user/master/data/geo/events/date=2022-01-01/part-01290-82f846d5-74a4-44e0-8fa9-de643f825932.c000.snappy.parquet\n",
      "-r-xr-xr-x   1 ubuntu hadoop       7310 2022-12-06 12:50 /user/master/data/geo/events/date=2022-01-01/part-01295-82f846d5-74a4-44e0-8fa9-de643f825932.c000.snappy.parquet\n",
      "-r-xr-xr-x   1 ubuntu hadoop       7067 2022-12-06 12:50 /user/master/data/geo/events/date=2022-01-01/part-01296-82f846d5-74a4-44e0-8fa9-de643f825932.c000.snappy.parquet\n",
      "-r-xr-xr-x   1 ubuntu hadoop       6972 2022-12-06 12:50 /user/master/data/geo/events/date=2022-01-01/part-01302-82f846d5-74a4-44e0-8fa9-de643f825932.c000.snappy.parquet\n",
      "-r-xr-xr-x   1 ubuntu hadoop       7710 2022-12-06 12:50 /user/master/data/geo/events/date=2022-01-01/part-01308-82f846d5-74a4-44e0-8fa9-de643f825932.c000.snappy.parquet\n",
      "-r-xr-xr-x   1 ubuntu hadoop       6659 2022-12-06 12:50 /user/master/data/geo/events/date=2022-01-01/part-01314-82f846d5-74a4-44e0-8fa9-de643f825932.c000.snappy.parquet\n",
      "-r-xr-xr-x   1 ubuntu hadoop       6678 2022-12-06 12:50 /user/master/data/geo/events/date=2022-01-01/part-01315-82f846d5-74a4-44e0-8fa9-de643f825932.c000.snappy.parquet\n",
      "-r-xr-xr-x   1 ubuntu hadoop       6718 2022-12-06 12:50 /user/master/data/geo/events/date=2022-01-01/part-01316-82f846d5-74a4-44e0-8fa9-de643f825932.c000.snappy.parquet\n",
      "-r-xr-xr-x   1 ubuntu hadoop       6650 2022-12-06 12:50 /user/master/data/geo/events/date=2022-01-01/part-01319-82f846d5-74a4-44e0-8fa9-de643f825932.c000.snappy.parquet\n",
      "-r-xr-xr-x   1 ubuntu hadoop       6664 2022-12-06 12:50 /user/master/data/geo/events/date=2022-01-01/part-01321-82f846d5-74a4-44e0-8fa9-de643f825932.c000.snappy.parquet\n",
      "-r-xr-xr-x   1 ubuntu hadoop       7549 2022-12-06 12:50 /user/master/data/geo/events/date=2022-01-01/part-01327-82f846d5-74a4-44e0-8fa9-de643f825932.c000.snappy.parquet\n",
      "-r-xr-xr-x   1 ubuntu hadoop       6585 2022-12-06 12:50 /user/master/data/geo/events/date=2022-01-01/part-01330-82f846d5-74a4-44e0-8fa9-de643f825932.c000.snappy.parquet\n",
      "-r-xr-xr-x   1 ubuntu hadoop       6719 2022-12-06 12:50 /user/master/data/geo/events/date=2022-01-01/part-01331-82f846d5-74a4-44e0-8fa9-de643f825932.c000.snappy.parquet\n",
      "-r-xr-xr-x   1 ubuntu hadoop       6546 2022-12-06 12:50 /user/master/data/geo/events/date=2022-01-01/part-01333-82f846d5-74a4-44e0-8fa9-de643f825932.c000.snappy.parquet\n",
      "-r-xr-xr-x   1 ubuntu hadoop       6417 2022-12-06 12:50 /user/master/data/geo/events/date=2022-01-01/part-01336-82f846d5-74a4-44e0-8fa9-de643f825932.c000.snappy.parquet\n",
      "-r-xr-xr-x   1 ubuntu hadoop       6399 2022-12-06 12:50 /user/master/data/geo/events/date=2022-01-01/part-01351-82f846d5-74a4-44e0-8fa9-de643f825932.c000.snappy.parquet\n",
      "-r-xr-xr-x   1 ubuntu hadoop       6298 2022-12-06 12:50 /user/master/data/geo/events/date=2022-01-01/part-01357-82f846d5-74a4-44e0-8fa9-de643f825932.c000.snappy.parquet\n",
      "-r-xr-xr-x   1 ubuntu hadoop       6290 2022-12-06 12:50 /user/master/data/geo/events/date=2022-01-01/part-01359-82f846d5-74a4-44e0-8fa9-de643f825932.c000.snappy.parquet\n",
      "-r-xr-xr-x   1 ubuntu hadoop       6359 2022-12-06 12:50 /user/master/data/geo/events/date=2022-01-01/part-01361-82f846d5-74a4-44e0-8fa9-de643f825932.c000.snappy.parquet\n",
      "-r-xr-xr-x   1 ubuntu hadoop       6289 2022-12-06 12:50 /user/master/data/geo/events/date=2022-01-01/part-01362-82f846d5-74a4-44e0-8fa9-de643f825932.c000.snappy.parquet\n",
      "-r-xr-xr-x   1 ubuntu hadoop       6962 2022-12-06 12:50 /user/master/data/geo/events/date=2022-01-01/part-01363-82f846d5-74a4-44e0-8fa9-de643f825932.c000.snappy.parquet\n",
      "-r-xr-xr-x   1 ubuntu hadoop       6293 2022-12-06 12:50 /user/master/data/geo/events/date=2022-01-01/part-01365-82f846d5-74a4-44e0-8fa9-de643f825932.c000.snappy.parquet\n",
      "-r-xr-xr-x   1 ubuntu hadoop       8441 2022-12-06 12:50 /user/master/data/geo/events/date=2022-01-01/part-01367-82f846d5-74a4-44e0-8fa9-de643f825932.c000.snappy.parquet\n",
      "-r-xr-xr-x   1 ubuntu hadoop       6292 2022-12-06 12:50 /user/master/data/geo/events/date=2022-01-01/part-01378-82f846d5-74a4-44e0-8fa9-de643f825932.c000.snappy.parquet\n",
      "-r-xr-xr-x   1 ubuntu hadoop       6227 2022-12-06 12:50 /user/master/data/geo/events/date=2022-01-01/part-01381-82f846d5-74a4-44e0-8fa9-de643f825932.c000.snappy.parquet\n",
      "-r-xr-xr-x   1 ubuntu hadoop       6190 2022-12-06 12:50 /user/master/data/geo/events/date=2022-01-01/part-01386-82f846d5-74a4-44e0-8fa9-de643f825932.c000.snappy.parquet\n",
      "-r-xr-xr-x   1 ubuntu hadoop       6182 2022-12-06 12:50 /user/master/data/geo/events/date=2022-01-01/part-01390-82f846d5-74a4-44e0-8fa9-de643f825932.c000.snappy.parquet\n",
      "-r-xr-xr-x   1 ubuntu hadoop       6176 2022-12-06 12:50 /user/master/data/geo/events/date=2022-01-01/part-01391-82f846d5-74a4-44e0-8fa9-de643f825932.c000.snappy.parquet\n",
      "-r-xr-xr-x   1 ubuntu hadoop       6125 2022-12-06 12:50 /user/master/data/geo/events/date=2022-01-01/part-01395-82f846d5-74a4-44e0-8fa9-de643f825932.c000.snappy.parquet\n",
      "-r-xr-xr-x   1 ubuntu hadoop       6150 2022-12-06 12:50 /user/master/data/geo/events/date=2022-01-01/part-01397-82f846d5-74a4-44e0-8fa9-de643f825932.c000.snappy.parquet\n",
      "-r-xr-xr-x   1 ubuntu hadoop       6191 2022-12-06 12:50 /user/master/data/geo/events/date=2022-01-01/part-01399-82f846d5-74a4-44e0-8fa9-de643f825932.c000.snappy.parquet\n",
      "-r-xr-xr-x   1 ubuntu hadoop       6072 2022-12-06 12:50 /user/master/data/geo/events/date=2022-01-01/part-01403-82f846d5-74a4-44e0-8fa9-de643f825932.c000.snappy.parquet\n",
      "-r-xr-xr-x   1 ubuntu hadoop       6112 2022-12-06 12:50 /user/master/data/geo/events/date=2022-01-01/part-01404-82f846d5-74a4-44e0-8fa9-de643f825932.c000.snappy.parquet\n",
      "-r-xr-xr-x   1 ubuntu hadoop       6158 2022-12-06 12:50 /user/master/data/geo/events/date=2022-01-01/part-01421-82f846d5-74a4-44e0-8fa9-de643f825932.c000.snappy.parquet\n",
      "-r-xr-xr-x   1 ubuntu hadoop       6033 2022-12-06 12:50 /user/master/data/geo/events/date=2022-01-01/part-01424-82f846d5-74a4-44e0-8fa9-de643f825932.c000.snappy.parquet\n",
      "-r-xr-xr-x   1 ubuntu hadoop       6876 2022-12-06 12:50 /user/master/data/geo/events/date=2022-01-01/part-01426-82f846d5-74a4-44e0-8fa9-de643f825932.c000.snappy.parquet\n",
      "-r-xr-xr-x   1 ubuntu hadoop       6096 2022-12-06 12:50 /user/master/data/geo/events/date=2022-01-01/part-01429-82f846d5-74a4-44e0-8fa9-de643f825932.c000.snappy.parquet\n",
      "-r-xr-xr-x   1 ubuntu hadoop       6136 2022-12-06 12:50 /user/master/data/geo/events/date=2022-01-01/part-01432-82f846d5-74a4-44e0-8fa9-de643f825932.c000.snappy.parquet\n",
      "-r-xr-xr-x   1 ubuntu hadoop       6022 2022-12-06 12:50 /user/master/data/geo/events/date=2022-01-01/part-01434-82f846d5-74a4-44e0-8fa9-de643f825932.c000.snappy.parquet\n",
      "-r-xr-xr-x   1 ubuntu hadoop       6017 2022-12-06 12:50 /user/master/data/geo/events/date=2022-01-01/part-01435-82f846d5-74a4-44e0-8fa9-de643f825932.c000.snappy.parquet\n",
      "-r-xr-xr-x   1 ubuntu hadoop       6014 2022-12-06 12:50 /user/master/data/geo/events/date=2022-01-01/part-01438-82f846d5-74a4-44e0-8fa9-de643f825932.c000.snappy.parquet\n",
      "-r-xr-xr-x   1 ubuntu hadoop       6054 2022-12-06 12:50 /user/master/data/geo/events/date=2022-01-01/part-01446-82f846d5-74a4-44e0-8fa9-de643f825932.c000.snappy.parquet\n",
      "-r-xr-xr-x   1 ubuntu hadoop       6007 2022-12-06 12:50 /user/master/data/geo/events/date=2022-01-01/part-01447-82f846d5-74a4-44e0-8fa9-de643f825932.c000.snappy.parquet\n",
      "-r-xr-xr-x   1 ubuntu hadoop       6037 2022-12-06 12:50 /user/master/data/geo/events/date=2022-01-01/part-01448-82f846d5-74a4-44e0-8fa9-de643f825932.c000.snappy.parquet\n",
      "-r-xr-xr-x   1 ubuntu hadoop       6000 2022-12-06 12:50 /user/master/data/geo/events/date=2022-01-01/part-01449-82f846d5-74a4-44e0-8fa9-de643f825932.c000.snappy.parquet\n",
      "-r-xr-xr-x   1 ubuntu hadoop       5996 2022-12-06 12:50 /user/master/data/geo/events/date=2022-01-01/part-01452-82f846d5-74a4-44e0-8fa9-de643f825932.c000.snappy.parquet\n",
      "-r-xr-xr-x   1 ubuntu hadoop       6008 2022-12-06 12:50 /user/master/data/geo/events/date=2022-01-01/part-01453-82f846d5-74a4-44e0-8fa9-de643f825932.c000.snappy.parquet\n",
      "-r-xr-xr-x   1 ubuntu hadoop       6023 2022-12-06 12:50 /user/master/data/geo/events/date=2022-01-01/part-01457-82f846d5-74a4-44e0-8fa9-de643f825932.c000.snappy.parquet\n",
      "-r-xr-xr-x   1 ubuntu hadoop       6009 2022-12-06 12:50 /user/master/data/geo/events/date=2022-01-01/part-01458-82f846d5-74a4-44e0-8fa9-de643f825932.c000.snappy.parquet\n",
      "-r-xr-xr-x   1 ubuntu hadoop       5966 2022-12-06 12:50 /user/master/data/geo/events/date=2022-01-01/part-01459-82f846d5-74a4-44e0-8fa9-de643f825932.c000.snappy.parquet\n",
      "-r-xr-xr-x   1 ubuntu hadoop       6822 2022-12-06 12:50 /user/master/data/geo/events/date=2022-01-01/part-01462-82f846d5-74a4-44e0-8fa9-de643f825932.c000.snappy.parquet\n",
      "-r-xr-xr-x   1 ubuntu hadoop       5984 2022-12-06 12:50 /user/master/data/geo/events/date=2022-01-01/part-01465-82f846d5-74a4-44e0-8fa9-de643f825932.c000.snappy.parquet\n",
      "-r-xr-xr-x   1 ubuntu hadoop       6468 2022-12-06 12:50 /user/master/data/geo/events/date=2022-01-01/part-01466-82f846d5-74a4-44e0-8fa9-de643f825932.c000.snappy.parquet\n",
      "-r-xr-xr-x   1 ubuntu hadoop       5958 2022-12-06 12:50 /user/master/data/geo/events/date=2022-01-01/part-01468-82f846d5-74a4-44e0-8fa9-de643f825932.c000.snappy.parquet\n",
      "-r-xr-xr-x   1 ubuntu hadoop       5948 2022-12-06 12:50 /user/master/data/geo/events/date=2022-01-01/part-01475-82f846d5-74a4-44e0-8fa9-de643f825932.c000.snappy.parquet\n",
      "-r-xr-xr-x   1 ubuntu hadoop       5868 2022-12-06 12:50 /user/master/data/geo/events/date=2022-01-01/part-01478-82f846d5-74a4-44e0-8fa9-de643f825932.c000.snappy.parquet\n",
      "-r-xr-xr-x   1 ubuntu hadoop       5998 2022-12-06 12:50 /user/master/data/geo/events/date=2022-01-01/part-01479-82f846d5-74a4-44e0-8fa9-de643f825932.c000.snappy.parquet\n",
      "-r-xr-xr-x   1 ubuntu hadoop       6008 2022-12-06 12:50 /user/master/data/geo/events/date=2022-01-01/part-01482-82f846d5-74a4-44e0-8fa9-de643f825932.c000.snappy.parquet\n",
      "-r-xr-xr-x   1 ubuntu hadoop       5980 2022-12-06 12:50 /user/master/data/geo/events/date=2022-01-01/part-01485-82f846d5-74a4-44e0-8fa9-de643f825932.c000.snappy.parquet\n",
      "-r-xr-xr-x   1 ubuntu hadoop       5940 2022-12-06 12:50 /user/master/data/geo/events/date=2022-01-01/part-01487-82f846d5-74a4-44e0-8fa9-de643f825932.c000.snappy.parquet\n",
      "-r-xr-xr-x   1 ubuntu hadoop       5929 2022-12-06 12:50 /user/master/data/geo/events/date=2022-01-01/part-01489-82f846d5-74a4-44e0-8fa9-de643f825932.c000.snappy.parquet\n",
      "-r-xr-xr-x   1 ubuntu hadoop       5885 2022-12-06 12:50 /user/master/data/geo/events/date=2022-01-01/part-01491-82f846d5-74a4-44e0-8fa9-de643f825932.c000.snappy.parquet\n",
      "-r-xr-xr-x   1 ubuntu hadoop       5894 2022-12-06 12:50 /user/master/data/geo/events/date=2022-01-01/part-01493-82f846d5-74a4-44e0-8fa9-de643f825932.c000.snappy.parquet\n",
      "-r-xr-xr-x   1 ubuntu hadoop       5866 2022-12-06 12:50 /user/master/data/geo/events/date=2022-01-01/part-01494-82f846d5-74a4-44e0-8fa9-de643f825932.c000.snappy.parquet\n",
      "-r-xr-xr-x   1 ubuntu hadoop       7039 2022-12-06 12:50 /user/master/data/geo/events/date=2022-01-01/part-01496-82f846d5-74a4-44e0-8fa9-de643f825932.c000.snappy.parquet\n",
      "-r-xr-xr-x   1 ubuntu hadoop       5932 2022-12-06 12:50 /user/master/data/geo/events/date=2022-01-01/part-01499-82f846d5-74a4-44e0-8fa9-de643f825932.c000.snappy.parquet\n",
      "-r-xr-xr-x   1 ubuntu hadoop       5939 2022-12-06 12:50 /user/master/data/geo/events/date=2022-01-01/part-01500-82f846d5-74a4-44e0-8fa9-de643f825932.c000.snappy.parquet\n",
      "-r-xr-xr-x   1 ubuntu hadoop       5896 2022-12-06 12:50 /user/master/data/geo/events/date=2022-01-01/part-01503-82f846d5-74a4-44e0-8fa9-de643f825932.c000.snappy.parquet\n",
      "-r-xr-xr-x   1 ubuntu hadoop       5915 2022-12-06 12:50 /user/master/data/geo/events/date=2022-01-01/part-01505-82f846d5-74a4-44e0-8fa9-de643f825932.c000.snappy.parquet\n",
      "-r-xr-xr-x   1 ubuntu hadoop       5933 2022-12-06 12:50 /user/master/data/geo/events/date=2022-01-01/part-01508-82f846d5-74a4-44e0-8fa9-de643f825932.c000.snappy.parquet\n",
      "-r-xr-xr-x   1 ubuntu hadoop       6558 2022-12-06 12:50 /user/master/data/geo/events/date=2022-01-01/part-01511-82f846d5-74a4-44e0-8fa9-de643f825932.c000.snappy.parquet\n",
      "-r-xr-xr-x   1 ubuntu hadoop       5889 2022-12-06 12:50 /user/master/data/geo/events/date=2022-01-01/part-01515-82f846d5-74a4-44e0-8fa9-de643f825932.c000.snappy.parquet\n",
      "-r-xr-xr-x   1 ubuntu hadoop       5869 2022-12-06 12:50 /user/master/data/geo/events/date=2022-01-01/part-01516-82f846d5-74a4-44e0-8fa9-de643f825932.c000.snappy.parquet\n",
      "-r-xr-xr-x   1 ubuntu hadoop       5873 2022-12-06 12:50 /user/master/data/geo/events/date=2022-01-01/part-01518-82f846d5-74a4-44e0-8fa9-de643f825932.c000.snappy.parquet\n",
      "-r-xr-xr-x   1 ubuntu hadoop       5844 2022-12-06 12:50 /user/master/data/geo/events/date=2022-01-01/part-01523-82f846d5-74a4-44e0-8fa9-de643f825932.c000.snappy.parquet\n",
      "-r-xr-xr-x   1 ubuntu hadoop       5830 2022-12-06 12:50 /user/master/data/geo/events/date=2022-01-01/part-01525-82f846d5-74a4-44e0-8fa9-de643f825932.c000.snappy.parquet\n",
      "-r-xr-xr-x   1 ubuntu hadoop       6403 2022-12-06 12:50 /user/master/data/geo/events/date=2022-01-01/part-01526-82f846d5-74a4-44e0-8fa9-de643f825932.c000.snappy.parquet\n",
      "-r-xr-xr-x   1 ubuntu hadoop       5808 2022-12-06 12:50 /user/master/data/geo/events/date=2022-01-01/part-01532-82f846d5-74a4-44e0-8fa9-de643f825932.c000.snappy.parquet\n",
      "-r-xr-xr-x   1 ubuntu hadoop       6379 2022-12-06 12:50 /user/master/data/geo/events/date=2022-01-01/part-01543-82f846d5-74a4-44e0-8fa9-de643f825932.c000.snappy.parquet\n",
      "-r-xr-xr-x   1 ubuntu hadoop       5863 2022-12-06 12:50 /user/master/data/geo/events/date=2022-01-01/part-01546-82f846d5-74a4-44e0-8fa9-de643f825932.c000.snappy.parquet\n",
      "-r-xr-xr-x   1 ubuntu hadoop       5798 2022-12-06 12:50 /user/master/data/geo/events/date=2022-01-01/part-01548-82f846d5-74a4-44e0-8fa9-de643f825932.c000.snappy.parquet\n",
      "-r-xr-xr-x   1 ubuntu hadoop       5801 2022-12-06 12:50 /user/master/data/geo/events/date=2022-01-01/part-01554-82f846d5-74a4-44e0-8fa9-de643f825932.c000.snappy.parquet\n",
      "-r-xr-xr-x   1 ubuntu hadoop       5783 2022-12-06 12:50 /user/master/data/geo/events/date=2022-01-01/part-01556-82f846d5-74a4-44e0-8fa9-de643f825932.c000.snappy.parquet\n",
      "-r-xr-xr-x   1 ubuntu hadoop       5800 2022-12-06 12:50 /user/master/data/geo/events/date=2022-01-01/part-01559-82f846d5-74a4-44e0-8fa9-de643f825932.c000.snappy.parquet\n",
      "-r-xr-xr-x   1 ubuntu hadoop       5807 2022-12-06 12:50 /user/master/data/geo/events/date=2022-01-01/part-01561-82f846d5-74a4-44e0-8fa9-de643f825932.c000.snappy.parquet\n",
      "-r-xr-xr-x   1 ubuntu hadoop       5784 2022-12-06 12:50 /user/master/data/geo/events/date=2022-01-01/part-01564-82f846d5-74a4-44e0-8fa9-de643f825932.c000.snappy.parquet\n",
      "-r-xr-xr-x   1 ubuntu hadoop       5764 2022-12-06 12:50 /user/master/data/geo/events/date=2022-01-01/part-01565-82f846d5-74a4-44e0-8fa9-de643f825932.c000.snappy.parquet\n",
      "-r-xr-xr-x   1 ubuntu hadoop       5804 2022-12-06 12:50 /user/master/data/geo/events/date=2022-01-01/part-01567-82f846d5-74a4-44e0-8fa9-de643f825932.c000.snappy.parquet\n",
      "-r-xr-xr-x   1 ubuntu hadoop       5834 2022-12-06 12:50 /user/master/data/geo/events/date=2022-01-01/part-01568-82f846d5-74a4-44e0-8fa9-de643f825932.c000.snappy.parquet\n",
      "-r-xr-xr-x   1 ubuntu hadoop       6369 2022-12-06 12:50 /user/master/data/geo/events/date=2022-01-01/part-01569-82f846d5-74a4-44e0-8fa9-de643f825932.c000.snappy.parquet\n",
      "-r-xr-xr-x   1 ubuntu hadoop       5795 2022-12-06 12:50 /user/master/data/geo/events/date=2022-01-01/part-01570-82f846d5-74a4-44e0-8fa9-de643f825932.c000.snappy.parquet\n",
      "-r-xr-xr-x   1 ubuntu hadoop       5743 2022-12-06 12:50 /user/master/data/geo/events/date=2022-01-01/part-01574-82f846d5-74a4-44e0-8fa9-de643f825932.c000.snappy.parquet\n",
      "-r-xr-xr-x   1 ubuntu hadoop       6335 2022-12-06 12:51 /user/master/data/geo/events/date=2022-01-01/part-01577-82f846d5-74a4-44e0-8fa9-de643f825932.c000.snappy.parquet\n",
      "-r-xr-xr-x   1 ubuntu hadoop       5786 2022-12-06 12:51 /user/master/data/geo/events/date=2022-01-01/part-01578-82f846d5-74a4-44e0-8fa9-de643f825932.c000.snappy.parquet\n",
      "-r-xr-xr-x   1 ubuntu hadoop       5771 2022-12-06 12:51 /user/master/data/geo/events/date=2022-01-01/part-01581-82f846d5-74a4-44e0-8fa9-de643f825932.c000.snappy.parquet\n",
      "-r-xr-xr-x   1 ubuntu hadoop       5789 2022-12-06 12:51 /user/master/data/geo/events/date=2022-01-01/part-01582-82f846d5-74a4-44e0-8fa9-de643f825932.c000.snappy.parquet\n",
      "-r-xr-xr-x   1 ubuntu hadoop       5737 2022-12-06 12:51 /user/master/data/geo/events/date=2022-01-01/part-01583-82f846d5-74a4-44e0-8fa9-de643f825932.c000.snappy.parquet\n",
      "-r-xr-xr-x   1 ubuntu hadoop       5746 2022-12-06 12:51 /user/master/data/geo/events/date=2022-01-01/part-01584-82f846d5-74a4-44e0-8fa9-de643f825932.c000.snappy.parquet\n",
      "-r-xr-xr-x   1 ubuntu hadoop       5728 2022-12-06 12:51 /user/master/data/geo/events/date=2022-01-01/part-01585-82f846d5-74a4-44e0-8fa9-de643f825932.c000.snappy.parquet\n",
      "-r-xr-xr-x   1 ubuntu hadoop       5755 2022-12-06 12:51 /user/master/data/geo/events/date=2022-01-01/part-01591-82f846d5-74a4-44e0-8fa9-de643f825932.c000.snappy.parquet\n",
      "-r-xr-xr-x   1 ubuntu hadoop       5762 2022-12-06 12:51 /user/master/data/geo/events/date=2022-01-01/part-01592-82f846d5-74a4-44e0-8fa9-de643f825932.c000.snappy.parquet\n",
      "-r-xr-xr-x   1 ubuntu hadoop       6725 2022-12-06 12:51 /user/master/data/geo/events/date=2022-01-01/part-01595-82f846d5-74a4-44e0-8fa9-de643f825932.c000.snappy.parquet\n",
      "-r-xr-xr-x   1 ubuntu hadoop       5816 2022-12-06 12:51 /user/master/data/geo/events/date=2022-01-01/part-01599-82f846d5-74a4-44e0-8fa9-de643f825932.c000.snappy.parquet\n",
      "-r-xr-xr-x   1 ubuntu hadoop       5840 2022-12-06 12:51 /user/master/data/geo/events/date=2022-01-01/part-01601-82f846d5-74a4-44e0-8fa9-de643f825932.c000.snappy.parquet\n",
      "-r-xr-xr-x   1 ubuntu hadoop       5704 2022-12-06 12:51 /user/master/data/geo/events/date=2022-01-01/part-01604-82f846d5-74a4-44e0-8fa9-de643f825932.c000.snappy.parquet\n",
      "-r-xr-xr-x   1 ubuntu hadoop       5668 2022-12-06 12:51 /user/master/data/geo/events/date=2022-01-01/part-01606-82f846d5-74a4-44e0-8fa9-de643f825932.c000.snappy.parquet\n",
      "-r-xr-xr-x   1 ubuntu hadoop       5691 2022-12-06 12:51 /user/master/data/geo/events/date=2022-01-01/part-01611-82f846d5-74a4-44e0-8fa9-de643f825932.c000.snappy.parquet\n",
      "-r-xr-xr-x   1 ubuntu hadoop       5653 2022-12-06 12:51 /user/master/data/geo/events/date=2022-01-01/part-01612-82f846d5-74a4-44e0-8fa9-de643f825932.c000.snappy.parquet\n",
      "-r-xr-xr-x   1 ubuntu hadoop       5692 2022-12-06 12:51 /user/master/data/geo/events/date=2022-01-01/part-01615-82f846d5-74a4-44e0-8fa9-de643f825932.c000.snappy.parquet\n",
      "-r-xr-xr-x   1 ubuntu hadoop       6577 2022-12-06 12:51 /user/master/data/geo/events/date=2022-01-01/part-01616-82f846d5-74a4-44e0-8fa9-de643f825932.c000.snappy.parquet\n",
      "-r-xr-xr-x   1 ubuntu hadoop       5714 2022-12-06 12:51 /user/master/data/geo/events/date=2022-01-01/part-01618-82f846d5-74a4-44e0-8fa9-de643f825932.c000.snappy.parquet\n",
      "-r-xr-xr-x   1 ubuntu hadoop       5702 2022-12-06 12:51 /user/master/data/geo/events/date=2022-01-01/part-01619-82f846d5-74a4-44e0-8fa9-de643f825932.c000.snappy.parquet\n",
      "-r-xr-xr-x   1 ubuntu hadoop       5728 2022-12-06 12:51 /user/master/data/geo/events/date=2022-01-01/part-01620-82f846d5-74a4-44e0-8fa9-de643f825932.c000.snappy.parquet\n",
      "-r-xr-xr-x   1 ubuntu hadoop       5658 2022-12-06 12:51 /user/master/data/geo/events/date=2022-01-01/part-01623-82f846d5-74a4-44e0-8fa9-de643f825932.c000.snappy.parquet\n",
      "-r-xr-xr-x   1 ubuntu hadoop       5709 2022-12-06 12:51 /user/master/data/geo/events/date=2022-01-01/part-01627-82f846d5-74a4-44e0-8fa9-de643f825932.c000.snappy.parquet\n",
      "-r-xr-xr-x   1 ubuntu hadoop       5629 2022-12-06 12:51 /user/master/data/geo/events/date=2022-01-01/part-01634-82f846d5-74a4-44e0-8fa9-de643f825932.c000.snappy.parquet\n",
      "-r-xr-xr-x   1 ubuntu hadoop       6134 2022-12-06 12:51 /user/master/data/geo/events/date=2022-01-01/part-01636-82f846d5-74a4-44e0-8fa9-de643f825932.c000.snappy.parquet\n",
      "-r-xr-xr-x   1 ubuntu hadoop       5662 2022-12-06 12:51 /user/master/data/geo/events/date=2022-01-01/part-01640-82f846d5-74a4-44e0-8fa9-de643f825932.c000.snappy.parquet\n",
      "-r-xr-xr-x   1 ubuntu hadoop       5640 2022-12-06 12:51 /user/master/data/geo/events/date=2022-01-01/part-01641-82f846d5-74a4-44e0-8fa9-de643f825932.c000.snappy.parquet\n",
      "-r-xr-xr-x   1 ubuntu hadoop       5635 2022-12-06 12:51 /user/master/data/geo/events/date=2022-01-01/part-01642-82f846d5-74a4-44e0-8fa9-de643f825932.c000.snappy.parquet\n",
      "-r-xr-xr-x   1 ubuntu hadoop       5670 2022-12-06 12:51 /user/master/data/geo/events/date=2022-01-01/part-01647-82f846d5-74a4-44e0-8fa9-de643f825932.c000.snappy.parquet\n",
      "-r-xr-xr-x   1 ubuntu hadoop       5567 2022-12-06 12:51 /user/master/data/geo/events/date=2022-01-01/part-01655-82f846d5-74a4-44e0-8fa9-de643f825932.c000.snappy.parquet\n",
      "-r-xr-xr-x   1 ubuntu hadoop       5639 2022-12-06 12:51 /user/master/data/geo/events/date=2022-01-01/part-01659-82f846d5-74a4-44e0-8fa9-de643f825932.c000.snappy.parquet\n",
      "-r-xr-xr-x   1 ubuntu hadoop       5628 2022-12-06 12:51 /user/master/data/geo/events/date=2022-01-01/part-01664-82f846d5-74a4-44e0-8fa9-de643f825932.c000.snappy.parquet\n",
      "-r-xr-xr-x   1 ubuntu hadoop       5638 2022-12-06 12:51 /user/master/data/geo/events/date=2022-01-01/part-01667-82f846d5-74a4-44e0-8fa9-de643f825932.c000.snappy.parquet\n",
      "-r-xr-xr-x   1 ubuntu hadoop       5604 2022-12-06 12:51 /user/master/data/geo/events/date=2022-01-01/part-01670-82f846d5-74a4-44e0-8fa9-de643f825932.c000.snappy.parquet\n",
      "-r-xr-xr-x   1 ubuntu hadoop       5601 2022-12-06 12:51 /user/master/data/geo/events/date=2022-01-01/part-01677-82f846d5-74a4-44e0-8fa9-de643f825932.c000.snappy.parquet\n",
      "-r-xr-xr-x   1 ubuntu hadoop       5599 2022-12-06 12:51 /user/master/data/geo/events/date=2022-01-01/part-01680-82f846d5-74a4-44e0-8fa9-de643f825932.c000.snappy.parquet\n",
      "-r-xr-xr-x   1 ubuntu hadoop       5582 2022-12-06 12:51 /user/master/data/geo/events/date=2022-01-01/part-01681-82f846d5-74a4-44e0-8fa9-de643f825932.c000.snappy.parquet\n",
      "-r-xr-xr-x   1 ubuntu hadoop       5586 2022-12-06 12:51 /user/master/data/geo/events/date=2022-01-01/part-01684-82f846d5-74a4-44e0-8fa9-de643f825932.c000.snappy.parquet\n",
      "-r-xr-xr-x   1 ubuntu hadoop       5593 2022-12-06 12:51 /user/master/data/geo/events/date=2022-01-01/part-01693-82f846d5-74a4-44e0-8fa9-de643f825932.c000.snappy.parquet\n",
      "-r-xr-xr-x   1 ubuntu hadoop       5568 2022-12-06 12:51 /user/master/data/geo/events/date=2022-01-01/part-01700-82f846d5-74a4-44e0-8fa9-de643f825932.c000.snappy.parquet\n",
      "-r-xr-xr-x   1 ubuntu hadoop       5681 2022-12-06 12:51 /user/master/data/geo/events/date=2022-01-01/part-01708-82f846d5-74a4-44e0-8fa9-de643f825932.c000.snappy.parquet\n",
      "-r-xr-xr-x   1 ubuntu hadoop       5539 2022-12-06 12:51 /user/master/data/geo/events/date=2022-01-01/part-01709-82f846d5-74a4-44e0-8fa9-de643f825932.c000.snappy.parquet\n",
      "-r-xr-xr-x   1 ubuntu hadoop       5541 2022-12-06 12:51 /user/master/data/geo/events/date=2022-01-01/part-01710-82f846d5-74a4-44e0-8fa9-de643f825932.c000.snappy.parquet\n",
      "-r-xr-xr-x   1 ubuntu hadoop       5495 2022-12-06 12:51 /user/master/data/geo/events/date=2022-01-01/part-01711-82f846d5-74a4-44e0-8fa9-de643f825932.c000.snappy.parquet\n",
      "-r-xr-xr-x   1 ubuntu hadoop       5532 2022-12-06 12:51 /user/master/data/geo/events/date=2022-01-01/part-01712-82f846d5-74a4-44e0-8fa9-de643f825932.c000.snappy.parquet\n",
      "-r-xr-xr-x   1 ubuntu hadoop       5534 2022-12-06 12:51 /user/master/data/geo/events/date=2022-01-01/part-01714-82f846d5-74a4-44e0-8fa9-de643f825932.c000.snappy.parquet\n",
      "-r-xr-xr-x   1 ubuntu hadoop       5741 2022-12-06 12:51 /user/master/data/geo/events/date=2022-01-01/part-01715-82f846d5-74a4-44e0-8fa9-de643f825932.c000.snappy.parquet\n",
      "-r-xr-xr-x   1 ubuntu hadoop       5853 2022-12-06 12:51 /user/master/data/geo/events/date=2022-01-01/part-01725-82f846d5-74a4-44e0-8fa9-de643f825932.c000.snappy.parquet\n",
      "-r-xr-xr-x   1 ubuntu hadoop       5479 2022-12-06 12:51 /user/master/data/geo/events/date=2022-01-01/part-01726-82f846d5-74a4-44e0-8fa9-de643f825932.c000.snappy.parquet\n",
      "-r-xr-xr-x   1 ubuntu hadoop       5468 2022-12-06 12:51 /user/master/data/geo/events/date=2022-01-01/part-01730-82f846d5-74a4-44e0-8fa9-de643f825932.c000.snappy.parquet\n",
      "-r-xr-xr-x   1 ubuntu hadoop       5427 2022-12-06 12:51 /user/master/data/geo/events/date=2022-01-01/part-01734-82f846d5-74a4-44e0-8fa9-de643f825932.c000.snappy.parquet\n",
      "-r-xr-xr-x   1 ubuntu hadoop       5464 2022-12-06 12:51 /user/master/data/geo/events/date=2022-01-01/part-01740-82f846d5-74a4-44e0-8fa9-de643f825932.c000.snappy.parquet\n",
      "-r-xr-xr-x   1 ubuntu hadoop       5470 2022-12-06 12:51 /user/master/data/geo/events/date=2022-01-01/part-01742-82f846d5-74a4-44e0-8fa9-de643f825932.c000.snappy.parquet\n",
      "-r-xr-xr-x   1 ubuntu hadoop       5434 2022-12-06 12:51 /user/master/data/geo/events/date=2022-01-01/part-01749-82f846d5-74a4-44e0-8fa9-de643f825932.c000.snappy.parquet\n",
      "-r-xr-xr-x   1 ubuntu hadoop       5398 2022-12-06 12:51 /user/master/data/geo/events/date=2022-01-01/part-01751-82f846d5-74a4-44e0-8fa9-de643f825932.c000.snappy.parquet\n",
      "-r-xr-xr-x   1 ubuntu hadoop       5690 2022-12-06 12:51 /user/master/data/geo/events/date=2022-01-01/part-01758-82f846d5-74a4-44e0-8fa9-de643f825932.c000.snappy.parquet\n",
      "-r-xr-xr-x   1 ubuntu hadoop       5423 2022-12-06 12:51 /user/master/data/geo/events/date=2022-01-01/part-01760-82f846d5-74a4-44e0-8fa9-de643f825932.c000.snappy.parquet\n",
      "-r-xr-xr-x   1 ubuntu hadoop       5429 2022-12-06 12:51 /user/master/data/geo/events/date=2022-01-01/part-01761-82f846d5-74a4-44e0-8fa9-de643f825932.c000.snappy.parquet\n",
      "-r-xr-xr-x   1 ubuntu hadoop       5694 2022-12-06 12:51 /user/master/data/geo/events/date=2022-01-01/part-01769-82f846d5-74a4-44e0-8fa9-de643f825932.c000.snappy.parquet\n",
      "-r-xr-xr-x   1 ubuntu hadoop       5409 2022-12-06 12:51 /user/master/data/geo/events/date=2022-01-01/part-01775-82f846d5-74a4-44e0-8fa9-de643f825932.c000.snappy.parquet\n",
      "-r-xr-xr-x   1 ubuntu hadoop       5392 2022-12-06 12:51 /user/master/data/geo/events/date=2022-01-01/part-01778-82f846d5-74a4-44e0-8fa9-de643f825932.c000.snappy.parquet\n",
      "-r-xr-xr-x   1 ubuntu hadoop       5378 2022-12-06 12:51 /user/master/data/geo/events/date=2022-01-01/part-01785-82f846d5-74a4-44e0-8fa9-de643f825932.c000.snappy.parquet\n",
      "-r-xr-xr-x   1 ubuntu hadoop       5385 2022-12-06 12:51 /user/master/data/geo/events/date=2022-01-01/part-01788-82f846d5-74a4-44e0-8fa9-de643f825932.c000.snappy.parquet\n",
      "-r-xr-xr-x   1 ubuntu hadoop       5342 2022-12-06 12:51 /user/master/data/geo/events/date=2022-01-01/part-01798-82f846d5-74a4-44e0-8fa9-de643f825932.c000.snappy.parquet\n",
      "-r-xr-xr-x   1 ubuntu hadoop       5306 2022-12-06 12:51 /user/master/data/geo/events/date=2022-01-01/part-01801-82f846d5-74a4-44e0-8fa9-de643f825932.c000.snappy.parquet\n",
      "-r-xr-xr-x   1 ubuntu hadoop       5334 2022-12-06 12:51 /user/master/data/geo/events/date=2022-01-01/part-01805-82f846d5-74a4-44e0-8fa9-de643f825932.c000.snappy.parquet\n",
      "-r-xr-xr-x   1 ubuntu hadoop       5306 2022-12-06 12:51 /user/master/data/geo/events/date=2022-01-01/part-01808-82f846d5-74a4-44e0-8fa9-de643f825932.c000.snappy.parquet\n",
      "-r-xr-xr-x   1 ubuntu hadoop       5319 2022-12-06 12:51 /user/master/data/geo/events/date=2022-01-01/part-01815-82f846d5-74a4-44e0-8fa9-de643f825932.c000.snappy.parquet\n",
      "-r-xr-xr-x   1 ubuntu hadoop       5261 2022-12-06 12:51 /user/master/data/geo/events/date=2022-01-01/part-01824-82f846d5-74a4-44e0-8fa9-de643f825932.c000.snappy.parquet\n",
      "-r-xr-xr-x   1 ubuntu hadoop       5216 2022-12-06 12:51 /user/master/data/geo/events/date=2022-01-01/part-01838-82f846d5-74a4-44e0-8fa9-de643f825932.c000.snappy.parquet\n",
      "-r-xr-xr-x   1 ubuntu hadoop       5201 2022-12-06 12:51 /user/master/data/geo/events/date=2022-01-01/part-01848-82f846d5-74a4-44e0-8fa9-de643f825932.c000.snappy.parquet\n",
      "-r-xr-xr-x   1 ubuntu hadoop       5162 2022-12-06 12:51 /user/master/data/geo/events/date=2022-01-01/part-01849-82f846d5-74a4-44e0-8fa9-de643f825932.c000.snappy.parquet\n",
      "-r-xr-xr-x   1 ubuntu hadoop       5169 2022-12-06 12:51 /user/master/data/geo/events/date=2022-01-01/part-01851-82f846d5-74a4-44e0-8fa9-de643f825932.c000.snappy.parquet\n",
      "-r-xr-xr-x   1 ubuntu hadoop       5136 2022-12-06 12:51 /user/master/data/geo/events/date=2022-01-01/part-01858-82f846d5-74a4-44e0-8fa9-de643f825932.c000.snappy.parquet\n"
     ]
    }
   ],
   "source": [
    "!hdfs dfs -ls /user/master/data/geo/events/date=2022-01-01"
   ]
  },
  {
   "cell_type": "code",
   "execution_count": null,
   "id": "09d7a667",
   "metadata": {},
   "outputs": [],
   "source": []
  }
 ],
 "metadata": {
  "kernelspec": {
   "display_name": "Python 3 (ipykernel)",
   "language": "python",
   "name": "python3"
  },
  "language_info": {
   "codemirror_mode": {
    "name": "ipython",
    "version": 3
   },
   "file_extension": ".py",
   "mimetype": "text/x-python",
   "name": "python",
   "nbconvert_exporter": "python",
   "pygments_lexer": "ipython3",
   "version": "3.8.10"
  }
 },
 "nbformat": 4,
 "nbformat_minor": 5
}
